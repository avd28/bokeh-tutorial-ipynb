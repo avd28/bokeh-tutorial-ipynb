{
 "metadata": {
  "name": "",
  "signature": "sha256:a79c9963ca23488d802d377e3376847215fbc13d667c2d71a2adb53cc0fafb31"
 },
 "nbformat": 3,
 "nbformat_minor": 0,
 "worksheets": [
  {
   "cells": [
    {
     "cell_type": "heading",
     "level": 2,
     "metadata": {},
     "source": [
      "<div style=\"float:left\">\n",
      "    <a href=\"http://bokeh.pydata.org/\">\n",
      "    <img src=\"http://bokeh.pydata.org/_static/bokeh-transparent.png\" style=\"display:inline-block; width:90px\"></a>\n",
      "    <h1  style=\"display:inline-block\">Bokeh tutorial - Basic Exercises</h1>\n",
      "</div>"
     ]
    },
    {
     "cell_type": "markdown",
     "metadata": {},
     "source": [
      "This is the IPython Notebook version of the Bokeh Tutorial availabled at http://bokeh.pydata.org/tutorial/index.html."
     ]
    },
    {
     "cell_type": "markdown",
     "metadata": {},
     "source": [
      "This Tutorial allows you to attempt the exercises first without seeing the solutions.\n",
      "\n",
      "<script>\n",
      "    toggle_md_cell = function(divid) {\n",
      "        $(\"#\" + divid).parent().parent().toggle();\n",
      "        // Style for solution cells //\n",
      "        $(\"#\" + divid).parent().parent().css(\"border\",\"1px solid rgba(0 , 0 , 0 , 0.15)\")\n",
      "        $(\"#\" + divid).parent().parent().css(\"border-radius\",\"7px\")\n",
      "        $(\"#\" + divid).parent().parent().css(\"background-color\",\"#F7FBFD\")\n",
      "        $(\"#\" + divid).parent().children(\"pre\").children(\"code\").css(\"background-color\",\"#F7FBFD\")\n",
      "    };\n",
      "    hide_all_hints = function() {\n",
      "        $(\"div.hint\").parent().parent().hide();\n",
      "    };\n",
      "    show_all_hints = function() {\n",
      "        $(\"div.hint\").parent().parent().show();\n",
      "    };\n",
      "</script>\n",
      "\n",
      "<button onclick=\"show_all_hints();\" class=\"btn\">Show solutions</button> <button onclick=\"hide_all_hints();\" class=\"btn\">Hide solutions</button>"
     ]
    },
    {
     "cell_type": "heading",
     "level": 2,
     "metadata": {},
     "source": [
      "1. Drawing lines"
     ]
    },
    {
     "cell_type": "code",
     "collapsed": false,
     "input": [
      "from __future__ import division\n",
      "\n",
      "import numpy as np\n",
      "from bokeh.plotting import *\n",
      "from bokeh.objects import Range1d\n",
      "\n",
      "output_notebook()\n",
      "\n",
      "# Skip the first point because it can be troublesome\n",
      "theta = np.linspace(0, 8*np.pi, 10000)[1:]\n",
      "\n",
      "# Compute the radial coordinates for some different spirals\n",
      "lituus = theta**(-1/2)          # lituus\n",
      "golden = np.exp(0.306349*theta) # golden\n",
      "arch   = theta                  # Archimedean\n",
      "fermat = theta**(1/2)           # Fermat's\n",
      "\n",
      "# Now compute the X and Y coordinates (polar mappers planned for Bokeh later)\n",
      "golden_x = golden*np.cos(theta)\n",
      "golden_y = golden*np.sin(theta)\n",
      "lituus_x = lituus*np.cos(theta)\n",
      "lituus_y = lituus*np.sin(theta)\n",
      "arch_x   = arch*np.cos(theta)\n",
      "arch_y   = arch*np.sin(theta)\n",
      "fermat_x = fermat*np.cos(theta)\n",
      "fermat_y = fermat*np.sin(theta)\n",
      "\n",
      "\n",
      "# Plot the Archimedean spiral using the `line` renderer. Note how we set the\n",
      "# color, line thickness, title, and legend value.\n",
      "line(arch_x, arch_y, color=\"red\", line_width=2,\n",
      "     title=\"Archimean\", legend=\"Archimedean\")\n",
      "show()"
     ],
     "language": "python",
     "metadata": {},
     "outputs": []
    },
    {
     "cell_type": "code",
     "collapsed": false,
     "input": [
      "# EXERCISE: reproduce the above plot for one of the other spirals"
     ],
     "language": "python",
     "metadata": {},
     "outputs": []
    },
    {
     "cell_type": "markdown",
     "metadata": {},
     "source": [
      "<button onclick=\"toggle_md_cell('hint1')\"; class=\"btn\">Show solution</button>"
     ]
    },
    {
     "cell_type": "markdown",
     "metadata": {},
     "source": [
      "```python\n",
      "line(golden_x, golden_y, color=\"orange\", line_width=2,\n",
      "     title=\"golden\", legend=\"golden\")\n",
      "```\n",
      "<div id=\"hint1\" class=\"hint\"></div>"
     ]
    },
    {
     "cell_type": "code",
     "collapsed": false,
     "input": [
      "# Let's try to put all lines on one plot for comparison. First we need to\n",
      "# turn on `hold` so that each renderer does not create a brand new plot\n",
      "hold()\n",
      "\n",
      "# Next we need to actually create a new figure, so that the following\n",
      "# renderers work on a new plot, and not the last one.\n",
      "figure()"
     ],
     "language": "python",
     "metadata": {},
     "outputs": []
    },
    {
     "cell_type": "code",
     "collapsed": false,
     "input": [
      "# EXERCISE: add all four spirals to one plot, each with different line colors\n",
      "# and legend values. NOTE: title only set on the first renderer."
     ],
     "language": "python",
     "metadata": {},
     "outputs": []
    },
    {
     "cell_type": "markdown",
     "metadata": {},
     "source": [
      "<button onclick=\"toggle_md_cell('hint2')\"; class=\"btn\">Show solution</button>"
     ]
    },
    {
     "cell_type": "markdown",
     "metadata": {},
     "source": [
      "```python\n",
      "line(golden_x, golden_y, color=\"#BD1550\", line_width=2,\n",
      "     legend=\"golden\", title=\"Various Spirals\")\n",
      "line(lituus_x, lituus_y, color=\"#E97F02\", line_width=2, legend=\"lituus\")\n",
      "line(arch_x,   arch_y,   color=\"#F8CA00\", line_width=2, legend=\"Archimedean\")\n",
      "line(fermat_x, fermat_y, color=\"#8A9B0F\", line_width=2, legend=\"Fermat\")\n",
      "\n",
      "show()\n",
      "```\n",
      "<div id=\"hint2\" class=\"hint\"></div>"
     ]
    },
    {
     "cell_type": "code",
     "collapsed": false,
     "input": [
      "# OK, so that doesn't look so good because Bokeh tried to autoscale to\n",
      "# accomodate all the data. We can use the Range1d object to set the plot range\n",
      "# explicitly"
     ],
     "language": "python",
     "metadata": {},
     "outputs": []
    },
    {
     "cell_type": "code",
     "collapsed": false,
     "input": [
      "# EXERCISE: create a new figure"
     ],
     "language": "python",
     "metadata": {},
     "outputs": []
    },
    {
     "cell_type": "markdown",
     "metadata": {},
     "source": [
      "<button onclick=\"toggle_md_cell('hint3')\"; class=\"btn\">Show solution</button>"
     ]
    },
    {
     "cell_type": "markdown",
     "metadata": {},
     "source": [
      "```python\n",
      "figure()\n",
      "```\n",
      "<div id=\"hint3\" class=\"hint\"></div>"
     ]
    },
    {
     "cell_type": "code",
     "collapsed": false,
     "input": [
      "# EXERCISE: add x_range and y_range parameters to the first `line`, to set the\n",
      "# range to [-10, 10]. NOTE: Range1d are created like: Range1d(start=0, end-10)"
     ],
     "language": "python",
     "metadata": {},
     "outputs": []
    },
    {
     "cell_type": "markdown",
     "metadata": {},
     "source": [
      "<button onclick=\"toggle_md_cell('hint4')\"; class=\"btn\">Show solution</button>"
     ]
    },
    {
     "cell_type": "markdown",
     "metadata": {},
     "source": [
      "```python\n",
      "line(golden_x, golden_y, color=\"#BD1550\", line_width=2,\n",
      "     legend=\"golden\", title=\"Various Spirals\",\n",
      "     x_range=Range1d(start=-10, end=10), y_range=Range1d(start=-10, end=10))\n",
      "line(lituus_x, lituus_y, color=\"#E97F02\", line_width=2, legend=\"lituus\")\n",
      "line(arch_x,   arch_y,   color=\"#F8CA00\", line_width=2, legend=\"Archimedean\")\n",
      "line(fermat_x, fermat_y, color=\"#8A9B0F\", line_width=2, legend=\"Fermat\")\n",
      "```\n",
      "<div id=\"hint4\" class=\"hint\"></div>"
     ]
    },
    {
     "cell_type": "code",
     "collapsed": false,
     "input": [
      "show()      # show the plot"
     ],
     "language": "python",
     "metadata": {},
     "outputs": []
    },
    {
     "cell_type": "markdown",
     "metadata": {},
     "source": [
      "<script>\n",
      "    hide_all_hints();\n",
      "</script>"
     ]
    }
   ],
   "metadata": {}
  }
 ]
}