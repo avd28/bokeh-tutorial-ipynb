{
 "metadata": {
  "name": "",
  "signature": "sha256:95bf0f717d5661892006ef241b8e8b9f92daa754dad95301228a23cbe0fed22a"
 },
 "nbformat": 3,
 "nbformat_minor": 0,
 "worksheets": [
  {
   "cells": [
    {
     "cell_type": "heading",
     "level": 2,
     "metadata": {},
     "source": [
      "<div style=\"align-center\">\n",
      "    <a href=\"http://bokeh.pydata.org/\"><img src=\"http://bokeh.pydata.org/_static/bokeh-transparent.png\"></a>\n",
      "    <h1 style=\"text-align:center\">Bokeh Tutorial in IPython Notebook</h1>\n",
      "</div>"
     ]
    },
    {
     "cell_type": "markdown",
     "metadata": {},
     "source": [
      "Welcome to [Bokeh](http://bokeh.pydata.org/)'s Tutorial in IPython Notebooks!\n",
      "\n",
      "Bokeh is a Python interactive visualization library for large datasets that natively uses the latest web technologies. Its goal is to provide elegant, concise construction of novel graphics in the style of Protovis/D3, while delivering high-performance interactivity over large data to thin clients."
     ]
    },
    {
     "cell_type": "heading",
     "level": 2,
     "metadata": {},
     "source": [
      "Content"
     ]
    },
    {
     "cell_type": "markdown",
     "metadata": {},
     "source": [
      "The Tutorial is divided in three sections: Basic, Topical and Advanced exercises. Each section contains several IPython notebooks with different exercises."
     ]
    },
    {
     "cell_type": "markdown",
     "metadata": {},
     "source": [
      "<table cellspacing=\"20\" style=\"border:0px\">\n",
      "<tbody style=\"border:0px\"><tr style=\"border:0px\"><td style=\"border:0px\">  <a class=\"reference external\" href=\"\"><img alt=\"lines\" src=\"http://bokeh.pydata.org/_images/lines_t.png\"></a>         <span class=\"raw-html\"></span></td>\n",
      "<td style=\"border:0px\">  <a class=\"reference external\" href=\"\"><img alt=\"scatter\" src=\"http://bokeh.pydata.org/_images/scatter_t.png\"></a>       <span class=\"raw-html\"></span></td>\n",
      "<td style=\"border:0px\">  <a class=\"reference external\" href=\"\"><img alt=\"image\" src=\"http://bokeh.pydata.org/_images/mandelbrot_t.png\"></a>         <span class=\"raw-html\"></span></td>\n",
      "<td style=\"border:0px\">  <a class=\"reference external\" href=\"http://bokeh.pydata.org/tutorial/solutions/gallery/style.html\"><img alt=\"style\" src=\"http://bokeh.pydata.org/_images/stacked_t.png\"></a>         <span class=\"raw-html\"></span></td>\n",
      "<td style=\"border:0px\">  <a class=\"reference external\" href=\"\"><img alt=\"hover\" src=\"http://bokeh.pydata.org/_images/hover_t.png\"></a>         <span class=\"raw-html\"></span></td>\n",
      "</tr><tr style=\"border:0px\"><td style=\"border:0px\">  <a class=\"reference external\" href=\"\"><img alt=\"stocks\" src=\"http://bokeh.pydata.org/_images/stocks_t.png\"></a>        <span class=\"raw-html\"></span></td>\n",
      "<td style=\"border:0px\">  <a class=\"reference external\" href=\"\"><img alt=\"histogram\" src=\"http://bokeh.pydata.org/_images/histogram_t.png\"></a>     <span class=\"raw-html\"></span></td>\n",
      "<td style=\"border:0px\">  <a class=\"reference external\" href=\"\"><img alt=\"boxplot\" src=\"http://bokeh.pydata.org/_images/boxplot_t.png\"></a>       <span class=\"raw-html\"></span></td>\n",
      "<td style=\"border:0px\">  <a class=\"reference external\" href=\"\"><img alt=\"unemployment\" src=\"http://bokeh.pydata.org/_images/unemployment_t.png\"></a>  <span class=\"raw-html\"></span></td>\n",
      "<td style=\"border:0px\">  <a class=\"reference external\" href=\"\"><img alt=\"olympics\" src=\"http://bokeh.pydata.org/_images/olympics_t.png\"></a>      <span class=\"raw-html\"></span></td>\n",
      "</tr>\n",
      "</tbody></table>"
     ]
    },
    {
     "cell_type": "markdown",
     "metadata": {},
     "source": [
      "<table cellspacing=\"20\" style=\"border:0px\">\n",
      "<tbody style=\"border:0px\">\n",
      "    <tr style=\"border:0px\">\n",
      "        <th style=\"text-align:center; border:0px\">Basic Exercises:</th>\n",
      "        <th style=\"text-align:center; border:0px\" >Topical Exercises:</th>\n",
      "        <th style=\"text-align:center; border:0px\">Advanced Exercises:</th>\n",
      "    </tr>\n",
      "    <tr style=\"border:0px\">\n",
      "        <td style=\"border:0px\">\n",
      "            <ul>\n",
      "            <li><a href=\"\">Drawing Lines</a></li>\n",
      "            <li><a href=\"\">Scattering points</a></li>\n",
      "            <li><a href=\"\">Displaying images</a></li>\n",
      "            <li><a href=\"\">Styling your plots</a></li>\n",
      "            <li><a href=\"\">Hovering above the Data</a></li>\n",
      "            </ul>\n",
      "        </td>\n",
      "        <td style=\"border:0px\">\n",
      "            <ul>\n",
      "            <li><a href=\"\">Timeseries</a></li>\n",
      "            <li><a href=\"\">Histograms</a></li>\n",
      "            <li><a href=\"\">Boxplots</a></li>\n",
      "            <li><a href=\"\">Heatmaps</a></li>\n",
      "            <li><a href=\"\">Barcharts</a></li>\n",
      "            </ul>\n",
      "        </td>\n",
      "        <td style=\"border:0px\">\n",
      "            <ul>\n",
      "            <li><a href=\"\">Les Miserables Co-occurrences</a></li>\n",
      "            <li><a href=\"\">Periodic Table of Elements</a></li>\n",
      "            </ul>\n",
      "        </td>\n",
      "        \n",
      "    </tr>\n",
      "</tbody>\n",
      "</table>"
     ]
    },
    {
     "cell_type": "markdown",
     "metadata": {},
     "source": [
      "<div class=\"section\" id=\"more-information\">\n",
      "<h1>More Information<a class=\"headerlink\" href=\"#more-information\" title=\"Permalink to this headline\"></a></h1>\n",
      "<p>For the full documentation, see <a class=\"reference external\" href=\"http://bokeh.pydata.org\">http://bokeh.pydata.org</a>.</p>\n",
      "<p>To see the Bokeh source code, visit the GitHub repository: <a class=\"reference external\" href=\"https://github.com/ContinuumIO/bokeh\">https://github.com/ContinuumIO/bokeh</a></p>\n",
      "<p>Be sure to follow us on Twitter <a class=\"reference external\" href=\"http://twitter.com/BokehPlots\">@bokehplots</a>!</p>\n",
      "<div class=\"section\" id=\"contact\">\n",
      "<span id=\"tutorial-contact\"></span><h2>Contact<a class=\"headerlink\" href=\"#contact\" title=\"Permalink to this headline\"></a></h2>\n",
      "<p>For questions, please join the bokeh mailing list:\n",
      "<a class=\"reference external\" href=\"https://groups.google.com/a/continuum.io/forum/#!forum/bokeh\">https://groups.google.com/a/continuum.io/forum/#!forum/bokeh</a></p>\n",
      "<p>You can also ask questions on StackOverflow and use the #bokeh tag:\n",
      "<a class=\"reference external\" href=\"http://stackoverflow.com/questions/tagged/bokeh\">http://stackoverflow.com/questions/tagged/bokeh</a>.</p>\n",
      "<p>Follow us on Twitter <a class=\"reference external\" href=\"http://twitter.com/BokehPlots\">@bokehplots</a>!\n",
      "When tweeting about how awesome Bokeh is, be sure to use the #bokeh tag!</p>\n",
      "<p>For information about commercial development, custom visualization development\n",
      "or embedding Bokeh in your applications, please contact\n",
      "<a class=\"reference external\" href=\"mailto://pwang%40continuum.io\">pwang<span>@</span>continuum<span>.</span>io</a>.</p>\n",
      "<p>To donate funds to support the development of Bokeh, please contact\n",
      "<a class=\"reference external\" href=\"mailto://info%40pydata.org\">info<span>@</span>pydata<span>.</span>org</a>.</p>\n",
      "</div>\n",
      "<div class=\"section\" id=\"thanks\">\n",
      "<span id=\"tutorial-thanks\"></span><h2>Thanks<a class=\"headerlink\" href=\"#thanks\" title=\"Permalink to this headline\"></a></h2>\n",
      "<p>Bokeh is developed with funding from <a class=\"reference external\" href=\"http://www.darpa.mil\">DARPA</a>\u2018s\n",
      "<a class=\"reference external\" href=\"http://www.darpa.mil/Our_Work/I2O/Programs/XDATA.aspx\">XDATA</a> program.</p>\n",
      "<p>Additionally, many thanks to <a class=\"reference external\" href=\"https://github.com/ContinuumIO/bokeh/graphs/contributors\">all of the Bokeh Github contributors</a>.</p>\n",
      "</div>\n",
      "</div>"
     ]
    }
   ],
   "metadata": {}
  }
 ]
}