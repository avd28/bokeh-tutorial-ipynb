{
 "metadata": {
  "name": "",
  "signature": "sha256:635c59dcc7dd3d03bbc046f1f96a795ecafed1e52970aa5f716b66f3fc4d514a"
 },
 "nbformat": 3,
 "nbformat_minor": 0,
 "worksheets": [
  {
   "cells": [
    {
     "cell_type": "markdown",
     "metadata": {},
     "source": [
      "<div>\n",
      "<a href=\"http://bokeh.pydata.org/\"><img src=\"images/bokeh-header.png\"></a>\n",
      "</div>"
     ]
    },
    {
     "cell_type": "markdown",
     "metadata": {},
     "source": [
      "Welcome to [Bokeh](http://bokeh.pydata.org/) in IPython Notebook!\n",
      "\n",
      "Bokeh is a Python interactive visualization library for large datasets that natively uses the latest web technologies. Its goal is to provide elegant, concise construction of novel graphics in the style of Protovis/D3, while delivering high-performance interactivity over large data to thin clients."
     ]
    },
    {
     "cell_type": "heading",
     "level": 1,
     "metadata": {},
     "source": [
      "Content"
     ]
    },
    {
     "cell_type": "heading",
     "level": 2,
     "metadata": {},
     "source": [
      "Tutorial"
     ]
    },
    {
     "cell_type": "markdown",
     "metadata": {},
     "source": [
      "The Tutorial is divided in three sections: Basic, Topical and Advanced exercises. \n",
      "Each section contains several IPython notebooks with different exercises. \n",
      "\n",
      "The `[Exercises]` notebooks contain the proposed exercises with hidden solutions, which can be displayed by clicking on the `Show solution` button, while the `[Published]` notebooks render the exercises solutions with their interactive plots. \n",
      "\n",
      "Get started with Bokeh by going through the tutorial, attempting the exercises and checking the provided solution."
     ]
    },
    {
     "cell_type": "markdown",
     "metadata": {},
     "source": [
      "<table cellspacing=\"20\" style=\"border:0px\">\n",
      "<tbody style=\"border:0px\"><tr style=\"border:0px\">\n",
      "<td style=\"border:0px\">  <a class=\"reference external\" href=\"../master/tutorial/solution/basic/01-lines.ipynb\"><img alt=\"lines\" src=\"http://bokeh.pydata.org/_images/lines_t.png\"></a>         <span class=\"raw-html\"></span></td>\n",
      "<td style=\"border:0px\">  <a class=\"reference external\" href=\"../master/tutorial/solution/basic/02-scatter.ipynb\"><img alt=\"scatter\" src=\"http://bokeh.pydata.org/_images/scatter_t.png\"></a>       <span class=\"raw-html\"></span></td>\n",
      "<td style=\"border:0px\">  <a class=\"reference external\" href=\"../master/tutorial/solution/basic/03-images.ipynb\"><img alt=\"image\" src=\"http://bokeh.pydata.org/_images/mandelbrot_t.png\"></a>         <span class=\"raw-html\"></span></td>\n",
      "<td style=\"border:0px\">  <a class=\"reference external\" href=\"../master/tutorial/solution/basic/04-style.ipynb\"><img alt=\"style\" src=\"http://bokeh.pydata.org/_images/stacked_t.png\"></a>         <span class=\"raw-html\"></span></td>\n",
      "<td style=\"border:0px\">  <a class=\"reference external\" href=\"../master/tutorial/solution/basic/05-hover.ipynb\"><img alt=\"hover\" src=\"http://bokeh.pydata.org/_images/hover_t.png\"></a>         <span class=\"raw-html\"></span></td>\n",
      "</tr><tr style=\"border:0px\">\n",
      "<td style=\"border:0px\">  <a class=\"reference external\" href=\"../master/tutorial/solution/topical/01-timeseries.ipynb\"><img alt=\"stocks\" src=\"http://bokeh.pydata.org/_images/stocks_t.png\"></a>        <span class=\"raw-html\"></span></td>\n",
      "<td style=\"border:0px\">  <a class=\"reference external\" href=\"../master/tutorial/solution/topical/02-histograms.ipynb\"><img alt=\"histogram\" src=\"http://bokeh.pydata.org/_images/histogram_t.png\"></a>     <span class=\"raw-html\"></span></td>\n",
      "<td style=\"border:0px\">  <a class=\"reference external\" href=\"../master/tutorial/solution/topical/03-boxplots.ipynb\"><img alt=\"boxplot\" src=\"http://bokeh.pydata.org/_images/boxplot_t.png\"></a>       <span class=\"raw-html\"></span></td>\n",
      "<td style=\"border:0px\">  <a class=\"reference external\" href=\"../master/tutorial/solution/topical/04-heatmaps.ipynb\"><img alt=\"unemployment\" src=\"http://bokeh.pydata.org/_images/unemployment_t.png\"></a>  <span class=\"raw-html\"></span></td>\n",
      "<td style=\"border:0px\">  <a class=\"reference external\" href=\"../master/tutorial/solution/topical/05-barcharts.ipynb\"><img alt=\"olympics\" src=\"http://bokeh.pydata.org/_images/olympics_t.png\"></a>      <span class=\"raw-html\"></span></td>\n",
      "</tr>\n",
      "</tbody></table>"
     ]
    },
    {
     "cell_type": "markdown",
     "metadata": {},
     "source": [
      "<table cellspacing=\"0px\" style=\"border:0px\">\n",
      "<tbody style=\"border:0px\">\n",
      "    <tr style=\"border:0px\">\n",
      "        <th style=\"text-align:center; border:0px\">Basic Exercises:</th>\n",
      "        <th style=\"text-align:center; border:0px\" >Topical Exercises:</th>\n",
      "        <th style=\"text-align:center; border:0px\">Advanced Exercises:</th>\n",
      "    </tr>\n",
      "    <tr style=\"border:0px\">\n",
      "        <td style=\"border:0px; padding:0px\">\n",
      "            <ul>\n",
      "            <li>Drawing Lines: <a href=\"../master/tutorial/exercises/basic/01-lines.ipynb\">[Exercises]</a> <a href=\"../master/tutorial/solution/basic/01-lines.ipynb\">[Published]</a></li>\n",
      "            <li>Scattering points: <a href=\"../master/tutorial/exercises/basic/02-scatter.ipynb\">[Exercises]</a> <a href=\"../master/tutorial/solution/basic/02-scatter.ipynb\">[Published]</a></li>\n",
      "            <li>Displaying images: <a href=\"../master/tutorial/exercises/basic/03-images.ipynb\">[Exercises]</a> <a href=\"../master/tutorial/solution/basic/03-images.ipynb\">[Published]</a></li>\n",
      "            <li>Styling your plots: <a href=\"../master/tutorial/exercises/basic/04-style.ipynb\">[Exercises]</a> <a href=\"../master/tutorial/solution/basic/04-style.ipynb\">[Published]</a></li>\n",
      "            <li>Hovering above the Data: <a href=\"../master/tutorial/exercises/basic/05-hover.ipynb\">[Exercises]</a> <a href=\"../master/tutorial/solution/basic/05-hover.ipynb\">[Published]</a></li>\n",
      "            </ul>\n",
      "        </td>\n",
      "        <td style=\"border:0px; padding:0px\">\n",
      "            <ul>\n",
      "            <li>Timeseries: <a href=\"../master/tutorial/exercises/topical/01-timeseries.ipynb\">[Exercises]</a> <a href=\"../master/tutorial/solution/topical/01-timeseries.ipynb\">[Published]</a></li>\n",
      "            <li>Histograms: <a href=\"../master/tutorial/exercises/topical/02-histograms.ipynb\">[Exercises]</a> <a href=\"../master/tutorial/solution/topical/02-histograms.ipynb\">[Published]</a></li>\n",
      "            <li>Boxplots: <a href=\"../master/tutorial/exercises/topical/03-boxplots.ipynb\">[Exercises]</a> <a href=\"../master/tutorial/solution/topical/03-boxplots.ipynb\">[Published]</a></li>\n",
      "            <li>Heatmaps: <a href=\"../master/tutorial/exercises/topical/04-heatmaps.ipynb\">[Exercises]</a> <a href=\"../master/tutorial/solution/topical/04-heatmaps.ipynb\">[Published]</a></li>\n",
      "            <li>Barcharts: <a href=\"../master/tutorial/exercises/topical/05-barcharts.ipynb\">[Exercises]</a> <a href=\"../master/tutorial/solution/topical/05-barcharts.ipynb\">[Published]</a></li>\n",
      "            </ul>\n",
      "        </td>\n",
      "        <td style=\"border:0px; padding:0px\">\n",
      "            <ul>\n",
      "            <li>Les Miserables Co-occurrences: <a href=\"../tutorial/exercises/advanced/01-les-miserables.ipynb\">[Exercises]</a> <a href=\"../tutorial/solution/advanced/01-les-miserables.ipynb\">[Published]</a></li>\n",
      "            <li>Periodic Table of Elements: <a href=\"../tutorial/exercises/advanced/02-periodic-table.ipynb\">[Exercises]</a> <a href=\"../tutorial/solution/advanced/02-periodic-table.ipynb\">[Published]</a></li>\n",
      "            </ul>\n",
      "        </td>\n",
      "        \n",
      "    </tr>\n",
      "</tbody>\n",
      "</table>"
     ]
    },
    {
     "cell_type": "heading",
     "level": 2,
     "metadata": {},
     "source": [
      "Gallery"
     ]
    },
    {
     "cell_type": "markdown",
     "metadata": {},
     "source": [
      "More examples of Bokeh's interactive plots in IPython Notebooks:"
     ]
    },
    {
     "cell_type": "markdown",
     "metadata": {},
     "source": [
      "<div class=\"section\" id=\"more-information\">\n",
      "<h1>More Information<a class=\"headerlink\" href=\"#more-information\" title=\"Permalink to this headline\"></a></h1>\n",
      "<p>For the full documentation, see <a class=\"reference external\" href=\"http://bokeh.pydata.org\">http://bokeh.pydata.org</a>.</p>\n",
      "<p>To see the Bokeh source code, visit the GitHub repository: <a class=\"reference external\" href=\"https://github.com/ContinuumIO/bokeh\">https://github.com/ContinuumIO/bokeh</a></p>\n",
      "<p>Be sure to follow us on Twitter <a class=\"reference external\" href=\"http://twitter.com/BokehPlots\">@bokehplots</a>!</p>\n",
      "<div class=\"section\" id=\"contact\">\n",
      "<span id=\"tutorial-contact\"></span><h2>Contact<a class=\"headerlink\" href=\"#contact\" title=\"Permalink to this headline\"></a></h2>\n",
      "<p>For questions, please join the bokeh mailing list:\n",
      "<a class=\"reference external\" href=\"https://groups.google.com/a/continuum.io/forum/#!forum/bokeh\">https://groups.google.com/a/continuum.io/forum/#!forum/bokeh</a></p>\n",
      "<p>You can also ask questions on StackOverflow and use the #bokeh tag:\n",
      "<a class=\"reference external\" href=\"http://stackoverflow.com/questions/tagged/bokeh\">http://stackoverflow.com/questions/tagged/bokeh</a>.</p>\n",
      "<p>Follow us on Twitter <a class=\"reference external\" href=\"http://twitter.com/BokehPlots\">@bokehplots</a>!\n",
      "When tweeting about how awesome Bokeh is, be sure to use the #bokeh tag!</p>\n",
      "<p>For information about commercial development, custom visualization development\n",
      "or embedding Bokeh in your applications, please contact\n",
      "<a class=\"reference external\" href=\"mailto://pwang%40continuum.io\">pwang<span>@</span>continuum<span>.</span>io</a>.</p>\n",
      "<p>To donate funds to support the development of Bokeh, please contact\n",
      "<a class=\"reference external\" href=\"mailto://info%40pydata.org\">info<span>@</span>pydata<span>.</span>org</a>.</p>\n",
      "</div>\n",
      "<div class=\"section\" id=\"thanks\">\n",
      "<span id=\"tutorial-thanks\"></span><h2>Thanks<a class=\"headerlink\" href=\"#thanks\" title=\"Permalink to this headline\"></a></h2>\n",
      "<p>Bokeh is developed with funding from <a class=\"reference external\" href=\"http://www.darpa.mil\">DARPA</a>\u2018s\n",
      "<a class=\"reference external\" href=\"http://www.darpa.mil/Our_Work/I2O/Programs/XDATA.aspx\">XDATA</a> program.</p>\n",
      "<p>Additionally, many thanks to <a class=\"reference external\" href=\"https://github.com/ContinuumIO/bokeh/graphs/contributors\">all of the Bokeh Github contributors</a>.</p>\n",
      "</div>\n",
      "</div>"
     ]
    }
   ],
   "metadata": {}
  }
 ]
}