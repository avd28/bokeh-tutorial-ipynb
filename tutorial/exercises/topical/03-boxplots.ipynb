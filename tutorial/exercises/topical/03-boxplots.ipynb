{
 "metadata": {
  "name": "",
  "signature": "sha256:04c4706cc0c90a6f0a920807b784ff0c9bc8e160f8598dda7d28a7f478dbcf3c"
 },
 "nbformat": 3,
 "nbformat_minor": 0,
 "worksheets": [
  {
   "cells": [
    {
     "cell_type": "heading",
     "level": 2,
     "metadata": {},
     "source": [
      "<div style=\"float:left\">\n",
      "    <a href=\"http://bokeh.pydata.org/\">\n",
      "    <img src=\"http://bokeh.pydata.org/_static/bokeh-transparent.png\" style=\"display:inline-block; width:90px\"></a>\n",
      "    <h1  style=\"display:inline-block\">Bokeh tutorial - Topical Exercises</h1>\n",
      "</div>"
     ]
    },
    {
     "cell_type": "markdown",
     "metadata": {},
     "source": [
      "This is the IPython Notebook version of the Bokeh Tutorial availabled at http://bokeh.pydata.org/tutorial/index.html."
     ]
    },
    {
     "cell_type": "markdown",
     "metadata": {},
     "source": [
      "This Tutorial allows you to attempt the exercises without seeing the solutions, click the `Show solution` button after each  exercise whenever you are ready to check your code.\n",
      "\n",
      "<script>\n",
      "    toggle_md_cell = function(divid) {\n",
      "        $(\"#\" + divid).parent().parent().toggle();\n",
      "        // Style for solution cells //\n",
      "        $(\"#\" + divid).parent().parent().css(\"border\",\"1px solid rgba(0 , 0 , 0 , 0.15)\")\n",
      "        $(\"#\" + divid).parent().parent().css(\"border-radius\",\"7px\")\n",
      "        $(\"#\" + divid).parent().parent().css(\"background-color\",\"#F7FBFD\")\n",
      "        $(\"#\" + divid).parent().children(\"pre\").children(\"code\").css(\"background-color\",\"#F7FBFD\")\n",
      "    };\n",
      "    hide_all_hints = function() {\n",
      "        $(\"div.hint\").parent().parent().hide();\n",
      "    };\n",
      "    show_all_hints = function() {\n",
      "        $(\"div.hint\").parent().parent().show();\n",
      "    };\n",
      "</script>\n",
      "\n",
      "<button onclick=\"show_all_hints();\" class=\"btn\">Show solutions</button> <button onclick=\"hide_all_hints();\" class=\"btn\">Hide solutions</button>"
     ]
    },
    {
     "cell_type": "heading",
     "level": 2,
     "metadata": {},
     "source": [
      "3. Boxplots"
     ]
    },
    {
     "cell_type": "code",
     "collapsed": false,
     "input": [
      "import numpy as np\n",
      "import pandas as pd\n",
      "from bokeh.plotting import *"
     ],
     "language": "python",
     "metadata": {},
     "outputs": []
    },
    {
     "cell_type": "code",
     "collapsed": false,
     "input": [
      "output_notebook()"
     ],
     "language": "python",
     "metadata": {},
     "outputs": []
    },
    {
     "cell_type": "code",
     "collapsed": false,
     "input": [
      "# Generate some synthetic time series for six different categories\n",
      "cats = list(\"abcdef\")\n",
      "y = np.random.randn(2000)\n",
      "g = np.random.choice(cats, 2000)\n",
      "for i, l in enumerate(cats):\n",
      "    y[g == l] += i // 2\n",
      "df = pd.DataFrame(dict(score=y, group=g))\n",
      "\n",
      "# Find the quartiles, IQR, and outliers for each category\n",
      "groups = df.groupby('group')\n",
      "q1 = groups.quantile(q=0.25)\n",
      "q2 = groups.quantile(q=0.5)\n",
      "q3 = groups.quantile(q=0.75)\n",
      "iqr = q3 - q1\n",
      "upper = q2 + 1.5*iqr\n",
      "lower = q2 - 1.5*iqr\n",
      "def outliers(group):\n",
      "   cat = group.name\n",
      "   return group[(group.score > upper.loc[cat][0]) | (group.score < lower.loc[cat][0])]['score']\n",
      "out = groups.apply(outliers).dropna()\n",
      "\n",
      "# Prepare outlier data for plotting, we need and x (categorical) and y (numeric)\n",
      "# coordinate for every outlier.\n",
      "outx = []\n",
      "outy = []\n",
      "for cat in cats:\n",
      "    for value in out[cat]:\n",
      "        outx.append(cat)\n",
      "        outy.append(value)"
     ],
     "language": "python",
     "metadata": {},
     "outputs": []
    },
    {
     "cell_type": "code",
     "collapsed": false,
     "input": [
      "# EXERCISE: turn on plot hold"
     ],
     "language": "python",
     "metadata": {},
     "outputs": []
    },
    {
     "cell_type": "markdown",
     "metadata": {},
     "source": [
      "<button onclick=\"toggle_md_cell('hint1')\"; class=\"btn\">Show solution</button>"
     ]
    },
    {
     "cell_type": "markdown",
     "metadata": {},
     "source": [
      "```python\n",
      "hold()\n",
      "```\n",
      "<div id=\"hint1\" class=\"hint\"></div>"
     ]
    },
    {
     "cell_type": "code",
     "collapsed": false,
     "input": [
      "# Draw the upper segment extending from the box plot using `segment` which\n",
      "# takes x0, x1 and y0, y1 as data\n",
      "segment(cats, upper.score, cats, q3.score, x_range=cats, line_width=2,\n",
      "        tools=\"\", background_fill=\"#EFE8E2\", line_color=\"black\", title=\"\")"
     ],
     "language": "python",
     "metadata": {},
     "outputs": []
    },
    {
     "cell_type": "code",
     "collapsed": false,
     "input": [
      "# EXERCISE: draw the lower segment"
     ],
     "language": "python",
     "metadata": {},
     "outputs": []
    },
    {
     "cell_type": "markdown",
     "metadata": {},
     "source": [
      "<button onclick=\"toggle_md_cell('hint2')\"; class=\"btn\">Show solution</button>"
     ]
    },
    {
     "cell_type": "markdown",
     "metadata": {},
     "source": [
      "```python\n",
      "segment(cats, lower.score, cats, q1.score, x_range=cats,\n",
      "        line_width=2, line_color=\"black\")\n",
      "```\n",
      "<div id=\"hint2\" class=\"hint\"></div>"
     ]
    },
    {
     "cell_type": "code",
     "collapsed": false,
     "input": [
      "# Draw the upper box of the box plot using `rect`\n",
      "rect(cats, (q3.score+q2.score)/2, 0.7, q3.score-q2.score,\n",
      "     fill_color=\"#E08E79\", line_width=2, line_color=\"black\")"
     ],
     "language": "python",
     "metadata": {},
     "outputs": []
    },
    {
     "cell_type": "code",
     "collapsed": false,
     "input": [
      "# EXERCISE: use `rect` to draw the bottom box with a different color"
     ],
     "language": "python",
     "metadata": {},
     "outputs": []
    },
    {
     "cell_type": "markdown",
     "metadata": {},
     "source": [
      "<button onclick=\"toggle_md_cell('hint3')\"; class=\"btn\">Show solution</button>"
     ]
    },
    {
     "cell_type": "markdown",
     "metadata": {},
     "source": [
      "```python\n",
      "rect(cats, (q2.score+q1.score)/2, 0.7, q2.score-q1.score,\n",
      "     fill_color=\"#3B8686\", line_width=2, line_color=\"black\")\n",
      "```\n",
      "<div id=\"hint3\" class=\"hint\"></div>"
     ]
    },
    {
     "cell_type": "code",
     "collapsed": false,
     "input": [
      "# OK here we use `rect` to draw the whiskers. It's slightly cheating, but it's\n",
      "# easier than using segments or lines, since we can specify widths simply with\n",
      "# categorical percentage units\n",
      "rect(cats, lower.score, 0.2, 0, line_color=\"black\")\n",
      "rect(cats, upper.score, 0.2, 0, line_color=\"black\")"
     ],
     "language": "python",
     "metadata": {},
     "outputs": []
    },
    {
     "cell_type": "code",
     "collapsed": false,
     "input": [
      "# EXERCISE: use `circle` to draw the outliers"
     ],
     "language": "python",
     "metadata": {},
     "outputs": []
    },
    {
     "cell_type": "markdown",
     "metadata": {},
     "source": [
      "<button onclick=\"toggle_md_cell('hint4')\"; class=\"btn\">Show solution</button>"
     ]
    },
    {
     "cell_type": "markdown",
     "metadata": {},
     "source": [
      "```python\n",
      "circle(outx, outy, size=6, color=\"#F38630\", fill_alpha=0.6)\n",
      "```\n",
      "<div id=\"hint4\" class=\"hint\"></div>"
     ]
    },
    {
     "cell_type": "code",
     "collapsed": false,
     "input": [
      "# EXERCISE: use grid(), axis(), etc. to style the plot. Some suggestions:\n",
      "#   - remove the X grid lines, change the Y grid line color\n",
      "#   - make the tick labels bigger\n",
      "\n",
      "show()"
     ],
     "language": "python",
     "metadata": {},
     "outputs": []
    },
    {
     "cell_type": "markdown",
     "metadata": {},
     "source": [
      "<button onclick=\"toggle_md_cell('hint5')\"; class=\"btn\">Show solution</button>"
     ]
    },
    {
     "cell_type": "markdown",
     "metadata": {},
     "source": [
      "```python\n",
      "xgrid().grid_line_color = None\n",
      "ygrid().grid_line_color = \"white\"\n",
      "ygrid().grid_line_width = 2\n",
      "xaxis().major_label_text_font_size=\"12pt\"\n",
      "```\n",
      "<div id=\"hint5\" class=\"hint\"></div>"
     ]
    },
    {
     "cell_type": "markdown",
     "metadata": {},
     "source": [
      "<script>\n",
      "    hide_all_hints();\n",
      "</script>"
     ]
    }
   ],
   "metadata": {}
  }
 ]
}