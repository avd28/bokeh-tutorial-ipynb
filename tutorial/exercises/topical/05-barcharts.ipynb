{
 "metadata": {
  "name": "",
  "signature": "sha256:3f383213c0eb93f6ca470ff04511fb89112490a44dc1554639e900aa5c220678"
 },
 "nbformat": 3,
 "nbformat_minor": 0,
 "worksheets": [
  {
   "cells": [
    {
     "cell_type": "heading",
     "level": 2,
     "metadata": {},
     "source": [
      "<div style=\"float:left\">\n",
      "    <a href=\"http://bokeh.pydata.org/\">\n",
      "    <img src=\"http://bokeh.pydata.org/_static/bokeh-transparent.png\" style=\"display:inline-block; width:90px\"></a>\n",
      "    <h1  style=\"display:inline-block\">Bokeh tutorial - Topical Exercises</h1>\n",
      "</div>"
     ]
    },
    {
     "cell_type": "markdown",
     "metadata": {},
     "source": [
      "This is the IPython Notebook version of the Bokeh Tutorial availabled at http://bokeh.pydata.org/tutorial/index.html."
     ]
    },
    {
     "cell_type": "markdown",
     "metadata": {},
     "source": [
      "This Tutorial allows you to attempt the exercises without seeing the solutions, click the `Show solution` button after each  exercise whenever you are ready to check your code.\n",
      "\n",
      "<script>\n",
      "    toggle_md_cell = function(divid) {\n",
      "        $(\"#\" + divid).parent().parent().toggle();\n",
      "        // Style for solution cells //\n",
      "        $(\"#\" + divid).parent().parent().css(\"border\",\"1px solid rgba(0 , 0 , 0 , 0.15)\")\n",
      "        $(\"#\" + divid).parent().parent().css(\"border-radius\",\"7px\")\n",
      "        $(\"#\" + divid).parent().parent().css(\"background-color\",\"#F7FBFD\")\n",
      "        $(\"#\" + divid).parent().children(\"pre\").children(\"code\").css(\"background-color\",\"#F7FBFD\")\n",
      "    };\n",
      "    hide_all_hints = function() {\n",
      "        $(\"div.hint\").parent().parent().hide();\n",
      "    };\n",
      "    show_all_hints = function(divid) {\n",
      "        $(\"#\" + divid).parent().parent().show();\n",
      "        // Style for solution cells //\n",
      "        $(\"#\" + divid).parent().parent().css(\"border\",\"1px solid rgba(0 , 0 , 0 , 0.15)\")\n",
      "        $(\"#\" + divid).parent().parent().css(\"border-radius\",\"7px\")\n",
      "        $(\"#\" + divid).parent().parent().css(\"background-color\",\"#F7FBFD\")\n",
      "        $(\"#\" + divid).parent().children(\"pre\").children(\"code\").css(\"background-color\",\"#F7FBFD\")\n",
      "    };\n",
      "</script>\n",
      "\n",
      "<button onclick=\"show_all_hints();\" class=\"btn\">Show solutions</button> <button onclick=\"hide_all_hints();\" class=\"btn\">Hide solutions</button>"
     ]
    },
    {
     "cell_type": "heading",
     "level": 2,
     "metadata": {},
     "source": [
      "5. Bar charts"
     ]
    },
    {
     "cell_type": "markdown",
     "metadata": {},
     "source": [
      "Let\u2019s plot some bar charts using 2014 Olympics data. We will make both stacked and grouped bar charts of medals won by country. The data for this exercise was obtained using the [Sochi API Explorer from Kimono Labs](https://www.kimonolabs.com/sochi/explorer)."
     ]
    },
    {
     "cell_type": "code",
     "collapsed": false,
     "input": [
      "import json\n",
      "import numpy as np\n",
      "from bokeh.plotting import *\n",
      "from bokeh.objects import ColumnDataSource, Range1d"
     ],
     "language": "python",
     "metadata": {},
     "outputs": []
    },
    {
     "cell_type": "code",
     "collapsed": false,
     "input": [
      "output_notebook()"
     ],
     "language": "python",
     "metadata": {},
     "outputs": []
    },
    {
     "cell_type": "code",
     "collapsed": false,
     "input": [
      "olympics = json.load(open('../data/olympics.json'))\n",
      "data = { d['abbr']: d['medals'] for d in olympics['data'] if d['medals']['total'] > 0}\n",
      "# pull out just the data we care about\n",
      "countries = sorted(\n",
      "    [d['abbr'] for d in olympics['data'] if d['medals']['total'] > 0],\n",
      "    key=lambda x: data[x]['total'], reverse=True\n",
      ")\n",
      "gold = np.array([data[abbr]['gold'] for abbr in countries], dtype=np.float)\n",
      "silver = np.array([data[abbr]['silver'] for abbr in countries], dtype=np.float)\n",
      "bronze = np.array([data[abbr]['bronze'] for abbr in countries], dtype=np.float)"
     ],
     "language": "python",
     "metadata": {},
     "outputs": []
    },
    {
     "cell_type": "code",
     "collapsed": false,
     "input": [
      "# EXERCISE: turn on plot hold"
     ],
     "language": "python",
     "metadata": {},
     "outputs": []
    },
    {
     "cell_type": "markdown",
     "metadata": {},
     "source": [
      "<button onclick=\"toggle_md_cell('hint1')\"; class=\"btn\">Show solution</button>"
     ]
    },
    {
     "cell_type": "markdown",
     "metadata": {},
     "source": [
      "```python\n",
      "hold()\n",
      "```\n",
      "<div id=\"hint1\" class=\"hint\"></div>"
     ]
    },
    {
     "cell_type": "code",
     "collapsed": false,
     "input": [
      "# use the `rect` renderer to display stacked bars of the medal results. Note\n",
      "# that we set y_range explicitly on the first renderer with a `Range1d` object\n",
      "rect(x=countries, y=bronze/2, width=0.8, height=bronze, x_range=countries, color=\"#CD7F32\", alpha=0.6,\n",
      "     background_fill='#59636C', title=\"Olympic Medals by Country (stacked)\", tools=\"\",\n",
      "     y_range=Range1d(start=0, end=max(gold+silver+bronze)), plot_width=800)\n",
      "rect(x=countries, y=bronze+silver/2, width=0.8, height=silver, x_range=countries, color=\"silver\", alpha=0.6)"
     ],
     "language": "python",
     "metadata": {},
     "outputs": []
    },
    {
     "cell_type": "code",
     "collapsed": false,
     "input": [
      "# EXERCISE: add a `rect` renderer to stack the gold medal results"
     ],
     "language": "python",
     "metadata": {},
     "outputs": []
    },
    {
     "cell_type": "markdown",
     "metadata": {},
     "source": [
      "<button onclick=\"toggle_md_cell('hint2')\"; class=\"btn\">Show solution</button>"
     ]
    },
    {
     "cell_type": "markdown",
     "metadata": {},
     "source": [
      "```python\n",
      "rect(x=countries, y=bronze+silver+gold/2, width=0.8, height=gold, x_range=countries, color=\"gold\", alpha=0.6)\n",
      "```\n",
      "<div id=\"hint2\" class=\"hint\"></div>"
     ]
    },
    {
     "cell_type": "code",
     "collapsed": false,
     "input": [
      "# EXERCISE: use grid(), axis(), etc. to style the plot. Some suggestions:\n",
      "#   - remove the grid lines\n",
      "#   - change the major label standoff, and major_tick_out values\n",
      "#   - make the tick labels smaller\n",
      "#   - set the x-axis orientation to vertical, or angled"
     ],
     "language": "python",
     "metadata": {},
     "outputs": []
    },
    {
     "cell_type": "markdown",
     "metadata": {},
     "source": [
      "<button onclick=\"toggle_md_cell('hint3')\"; class=\"btn\">Show solution</button>"
     ]
    },
    {
     "cell_type": "markdown",
     "metadata": {},
     "source": [
      "```python\n",
      "xgrid().grid_line_color = None\n",
      "axis().major_label_text_font_size = \"8pt\"\n",
      "axis().major_label_standoff = 0\n",
      "xaxis().major_label_orientation = np.pi/3\n",
      "xaxis().major_label_standoff = 6\n",
      "xaxis().major_tick_out = 0\n",
      "```\n",
      "<div id=\"hint3\" class=\"hint\"></div>"
     ]
    },
    {
     "cell_type": "code",
     "collapsed": false,
     "input": [
      "# EXERCISE: create a new figure"
     ],
     "language": "python",
     "metadata": {},
     "outputs": []
    },
    {
     "cell_type": "markdown",
     "metadata": {},
     "source": [
      "<button onclick=\"toggle_md_cell('hint4')\"; class=\"btn\">Show solution</button>"
     ]
    },
    {
     "cell_type": "markdown",
     "metadata": {},
     "source": [
      "```python\n",
      "figure()\n",
      "```\n",
      "<div id=\"hint4\" class=\"hint\"></div>"
     ]
    },
    {
     "cell_type": "code",
     "collapsed": false,
     "input": [
      "# Categorical percentage coordinates can be used for positioning/grouping\n",
      "countries_bronze = [c+\":0.3\" for c in countries]\n",
      "countries_silver = [c+\":0.5\" for c in countries]\n",
      "countries_gold = [c+\":0.7\" for c in countries]"
     ],
     "language": "python",
     "metadata": {},
     "outputs": []
    },
    {
     "cell_type": "code",
     "collapsed": false,
     "input": [
      "# EXERCISE: re create the medal plot, but this time:\n",
      "#   - do not stack the bars on the y coordinate\n",
      "#   - use countries_gold, etc. to positions the bars on the x coordinate"
     ],
     "language": "python",
     "metadata": {},
     "outputs": []
    },
    {
     "cell_type": "markdown",
     "metadata": {},
     "source": [
      "<button onclick=\"toggle_md_cell('hint5')\"; class=\"btn\">Show solution</button>"
     ]
    },
    {
     "cell_type": "markdown",
     "metadata": {},
     "source": [
      "```python\n",
      "rect(x=countries_bronze, y=bronze/2, width=0.2, height=bronze, x_range=countries, color=\"#CD7F32\", alpha=0.6,\n",
      "     background_fill='#59636C', title=\"Olympic Medals by Country (grouped)\", tools=\"\",\n",
      "     y_range=Range1d(start=0, end=max([gold.max(), silver.max(), bronze.max()])), plot_width=1000, plot_height=300)\n",
      "rect(x=countries_silver, y=silver/2, width=0.2, height=silver, x_range=countries, color=\"silver\", alpha=0.6)\n",
      "rect(x=countries_gold, y=gold/2, width=0.2, height=gold, x_range=countries, color=\"gold\", alpha=0.6)\n",
      "```\n",
      "<div id=\"hint5\" class=\"hint\"></div>"
     ]
    },
    {
     "cell_type": "code",
     "collapsed": false,
     "input": [
      "# EXERCISE: use grid(), axis(), etc. to style the plot. Some suggestions:\n",
      "#   - remove the axis and grid lines\n",
      "#   - remove the major ticks\n",
      "#   - make the tick labels smaller\n",
      "#   - set the x-axis orientation to vertical, or angled"
     ],
     "language": "python",
     "metadata": {},
     "outputs": []
    },
    {
     "cell_type": "markdown",
     "metadata": {},
     "source": [
      "<button onclick=\"toggle_md_cell('hint6')\"; class=\"btn\">Show solution</button>"
     ]
    },
    {
     "cell_type": "markdown",
     "metadata": {},
     "source": [
      "```python\n",
      "xgrid().grid_line_color = None\n",
      "axis().major_label_text_font_size = \"8pt\"\n",
      "axis().major_label_standoff = 0\n",
      "xaxis().major_label_orientation = np.pi/3\n",
      "xaxis().major_label_standoff = 6\n",
      "xaxis().major_tick_out = 0\n",
      "```\n",
      "<div id=\"hint6\" class=\"hint\"></div>"
     ]
    },
    {
     "cell_type": "code",
     "collapsed": false,
     "input": [
      "xaxis().major_label_standoff = 6\n",
      "xaxis().major_tick_out = 0"
     ],
     "language": "python",
     "metadata": {},
     "outputs": []
    },
    {
     "cell_type": "code",
     "collapsed": false,
     "input": [
      "show()      # show the plot"
     ],
     "language": "python",
     "metadata": {},
     "outputs": []
    },
    {
     "cell_type": "markdown",
     "metadata": {},
     "source": [
      "<script>\n",
      "    hide_all_hints();\n",
      "</script>"
     ]
    }
   ],
   "metadata": {}
  }
 ]
}