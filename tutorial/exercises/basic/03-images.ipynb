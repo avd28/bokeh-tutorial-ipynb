{
 "metadata": {
  "name": "",
  "signature": "sha256:d1e838d1760a5d647cee5c5c3931c53a7aefed802c25532acf094fc877d414d3"
 },
 "nbformat": 3,
 "nbformat_minor": 0,
 "worksheets": [
  {
   "cells": [
    {
     "cell_type": "heading",
     "level": 2,
     "metadata": {},
     "source": [
      "<div style=\"float:left\">\n",
      "    <a href=\"http://bokeh.pydata.org/\">\n",
      "    <img src=\"http://bokeh.pydata.org/_static/bokeh-transparent.png\" style=\"display:inline-block; width:90px\"></a>\n",
      "    <h1  style=\"display:inline-block\">Bokeh tutorial - Basic Exercises</h1>\n",
      "</div>"
     ]
    },
    {
     "cell_type": "markdown",
     "metadata": {},
     "source": [
      "This is the IPython Notebook version of the Bokeh Tutorial availabled at http://bokeh.pydata.org/tutorial/index.html."
     ]
    },
    {
     "cell_type": "markdown",
     "metadata": {},
     "source": [
      "This Tutorial allows you to attempt the exercises first without seeing the solutions.\n",
      "\n",
      "<script>\n",
      "    toggle_md_cell = function(divid) {\n",
      "        $(\"#\" + divid).parent().parent().toggle();\n",
      "        // Style for solution cells //\n",
      "        $(\"#\" + divid).parent().parent().css(\"border\",\"1px solid rgba(0 , 0 , 0 , 0.15)\")\n",
      "        $(\"#\" + divid).parent().parent().css(\"border-radius\",\"7px\")\n",
      "        $(\"#\" + divid).parent().parent().css(\"background-color\",\"#F7FBFD\")\n",
      "        $(\"#\" + divid).parent().children(\"pre\").children(\"code\").css(\"background-color\",\"#F7FBFD\")\n",
      "    };\n",
      "    hide_all_hints = function() {\n",
      "        $(\"div.hint\").parent().parent().hide();\n",
      "    };\n",
      "    show_all_hints = function() {\n",
      "        $(\"div.hint\").parent().parent().show();\n",
      "    };\n",
      "</script>\n",
      "\n",
      "<button onclick=\"show_all_hints();\" class=\"btn\">Show solutions</button> <button onclick=\"hide_all_hints();\" class=\"btn\">Hide solutions</button>"
     ]
    },
    {
     "cell_type": "heading",
     "level": 2,
     "metadata": {},
     "source": [
      "3. Displaying images"
     ]
    },
    {
     "cell_type": "code",
     "collapsed": false,
     "input": [
      "from __future__ import division\n",
      "\n",
      "import numpy as np\n",
      "from bokeh.plotting import *\n",
      "from bokeh.objects import Range1d\n",
      "\n",
      "# NOTE: if you do not have numba installed, comment out this import,\n",
      "# and the 'autojit' lines below (the example will run more slowly).\n",
      "from numba import autojit\n",
      "\n",
      "# These functions generate the Mandelbrot set image. Don't worry if\n",
      "# you are not familiar with them. The import thing is just to know\n",
      "# that they create a 2D array of numbers that we can colormap.\n",
      "\n",
      "@autojit\n",
      "def mandel(x, y, max_iters):\n",
      "    \"\"\"\n",
      "    Given the real and imaginary parts of a complex number,\n",
      "    determine if it is a candidate for membership in the Mandelbrot\n",
      "    set given a fixed number of iterations.\n",
      "    \"\"\"\n",
      "    c = complex(x, y)\n",
      "    z = 0.0j\n",
      "    for i in range(max_iters):\n",
      "        z = z*z + c\n",
      "        if (z.real*z.real + z.imag*z.imag) >= 4:\n",
      "            return i\n",
      "    return max_iters\n",
      "\n",
      "@autojit\n",
      "def create_fractal(min_x, max_x, min_y, max_y, image, iters):\n",
      "    height = image.shape[0]\n",
      "    width = image.shape[1]\n",
      "\n",
      "    pixel_size_x = (max_x - min_x) / width\n",
      "    pixel_size_y = (max_y - min_y) / height\n",
      "\n",
      "    for x in range(width):\n",
      "        real = min_x + x * pixel_size_x\n",
      "        for y in range(height):\n",
      "            imag = min_y + y * pixel_size_y\n",
      "            color = mandel(real, imag, iters)\n",
      "            image[y, x] = color"
     ],
     "language": "python",
     "metadata": {},
     "outputs": []
    },
    {
     "cell_type": "code",
     "collapsed": false,
     "input": [
      "output_notebook()"
     ],
     "language": "python",
     "metadata": {},
     "outputs": []
    },
    {
     "cell_type": "code",
     "collapsed": false,
     "input": [
      "# Define the bounding coordinates to generate the Mandelbrot image in. You\n",
      "# can play around with these.\n",
      "min_x = -2.0\n",
      "max_x = 1.0\n",
      "min_y = -1.0\n",
      "max_y = 1.0\n",
      "\n",
      "# Use the functions above to create a scalar image (2D array of numbers)\n",
      "img = np.zeros((1024, 1536), dtype = np.uint8)\n",
      "create_fractal(min_x, max_x, min_y, max_y, img, 20)"
     ],
     "language": "python",
     "metadata": {},
     "outputs": []
    },
    {
     "cell_type": "code",
     "collapsed": false,
     "input": [
      "# EXERCISE: Fill in the missing parameters to use the `image` renderer to\n",
      "# display the Mandelbrot image 'img' with the title 'Mandelbrot', colormapped\n",
      "# with the palette 'Spectral-11', and a fixed range given by (min_x, max_x)\n",
      "# and (min_y, max_y).\n",
      "#\n",
      "# NOTE: the `image` renderer can display many images at once, so it takes\n",
      "# **lists** of images, coordinates, and palettes. Remember to supply sequences\n",
      "# for these parameters, even if you are just supply one.\n",
      "image(image=\n",
      "      x=                                          # lower left x coord\n",
      "      y=                                          # lower left y coord\n",
      "      dw=                                         # *data* width of image\n",
      "      dh=                                         # *data* height of image\n",
      "      palette=                                    # palette to colormap with\n",
      "      x_range = Range1d(start=min_x, end=max_x),  # fix the X range\n",
      "      y_range = Range1d(start=min_y, end=max_x),  # fix the Y range\n",
      "      title=                                      # give the plot a title\n",
      "      tools=\"pan,wheel_zoom,box_zoom,reset\",      # add some tools\n",
      "      plot_width=900,                             # set a width for the plot\n",
      "      plot_height=600                             # and a height\n",
      ")"
     ],
     "language": "python",
     "metadata": {},
     "outputs": []
    },
    {
     "cell_type": "markdown",
     "metadata": {},
     "source": [
      "<button onclick=\"toggle_md_cell('hint1')\"; class=\"btn\">Show solution</button>"
     ]
    },
    {
     "cell_type": "markdown",
     "metadata": {},
     "source": [
      "```python\n",
      "image(image=[img],\n",
      "      x=[min_x],\n",
      "      y=[min_y],\n",
      "      dw=[max_x-min_x],\n",
      "      dh=[max_y-min_y],\n",
      "      palette=[\"Spectral-11\"],\n",
      "      x_range = Range1d(start=min_x, end=max_x),\n",
      "      y_range = Range1d(start=min_y, end=max_x),\n",
      "      title=\"Mandelbrot\",\n",
      "      tools=\"pan,wheel_zoom,box_zoom,reset,previewsave\",\n",
      "      plot_width=900,\n",
      "      plot_height=600\n",
      ")\n",
      "show()\n",
      "```\n",
      "<div id=\"hint1\" class=\"hint\"></div>"
     ]
    },
    {
     "cell_type": "code",
     "collapsed": false,
     "input": [
      "# EXERCISE: create a new figure"
     ],
     "language": "python",
     "metadata": {},
     "outputs": []
    },
    {
     "cell_type": "markdown",
     "metadata": {},
     "source": [
      "<button onclick=\"toggle_md_cell('hint2')\"; class=\"btn\">Show solution</button>"
     ]
    },
    {
     "cell_type": "markdown",
     "metadata": {},
     "source": [
      "```python\n",
      "figure()\n",
      "```\n",
      "<div id=\"hint2\" class=\"hint\"></div>"
     ]
    },
    {
     "cell_type": "code",
     "collapsed": false,
     "input": [
      "# We can also use the `image_rgba` renderer to display RGBA images that\n",
      "# we have colormapped ourselves.\n",
      "N = 20\n",
      "img = np.empty((N,N), dtype=np.uint32)\n",
      "view = img.view(dtype=np.uint8).reshape((N, N, 4))\n",
      "for i in range(N):\n",
      "    for j in range(N):\n",
      "        view[i, j, 0] = int(i/N*255)\n",
      "        view[i, j, 1] = 158\n",
      "        view[i, j, 2] = int(j/N*255)\n",
      "        view[i, j, 3] = 255"
     ],
     "language": "python",
     "metadata": {},
     "outputs": []
    },
    {
     "cell_type": "code",
     "collapsed": false,
     "input": [
      "# EXERCISE: use `image_rgba` to display the image above. Use the following\n",
      "# cordinates: (x0,y0) = (0,0)  and (x1,y1) = (10,10). Remember to set the\n",
      "# x_range and y_range explicitly as above."
     ],
     "language": "python",
     "metadata": {},
     "outputs": []
    },
    {
     "cell_type": "markdown",
     "metadata": {},
     "source": [
      "<button onclick=\"toggle_md_cell('hint3')\"; class=\"btn\">Show solution</button>"
     ]
    },
    {
     "cell_type": "markdown",
     "metadata": {},
     "source": [
      "```python\n",
      "image_rgba(\n",
      "    image=[img], x=[0], y=[0], dw=[10], dh=[10],\n",
      "    x_range = Range1d(start=0, end=10), y_range = Range1d(start=0, end=10),\n",
      "    tools=\"pan,wheel_zoom,box_zoom,reset,previewsave\", name=\"image_example\")\n",
      "show()      # show the plot\n",
      "```\n",
      "<div id=\"hint3\" class=\"hint\"></div>"
     ]
    },
    {
     "cell_type": "markdown",
     "metadata": {},
     "source": [
      "<script>\n",
      "    hide_all_hints();\n",
      "</script>"
     ]
    }
   ],
   "metadata": {}
  }
 ]
}