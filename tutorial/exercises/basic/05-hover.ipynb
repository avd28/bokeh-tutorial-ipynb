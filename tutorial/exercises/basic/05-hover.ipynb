{
 "metadata": {
  "name": "",
  "signature": "sha256:aa7e2badc1e4667ba4b6cb10389900f6be9f7a844cf0f847f763e0e9fe578114"
 },
 "nbformat": 3,
 "nbformat_minor": 0,
 "worksheets": [
  {
   "cells": [
    {
     "cell_type": "heading",
     "level": 2,
     "metadata": {},
     "source": [
      "<div style=\"float:left\">\n",
      "    <a href=\"http://bokeh.pydata.org/\">\n",
      "    <img src=\"http://bokeh.pydata.org/_static/bokeh-transparent.png\" style=\"display:inline-block; width:90px\"></a>\n",
      "    <h1  style=\"display:inline-block\">Bokeh tutorial - Basic Exercises</h1>\n",
      "</div>"
     ]
    },
    {
     "cell_type": "markdown",
     "metadata": {},
     "source": [
      "This is the IPython Notebook version of the Bokeh Tutorial availabled at http://bokeh.pydata.org/tutorial/index.html."
     ]
    },
    {
     "cell_type": "markdown",
     "metadata": {},
     "source": [
      "This Tutorial allows you to attempt the exercises first without seeing the solutions.\n",
      "\n",
      "<script>\n",
      "    toggle_md_cell = function(divid) {\n",
      "        $(\"#\" + divid).parent().parent().toggle();\n",
      "        // Style for solution cells //\n",
      "        $(\"#\" + divid).parent().parent().css(\"border\",\"1px solid rgba(0 , 0 , 0 , 0.15)\")\n",
      "        $(\"#\" + divid).parent().parent().css(\"border-radius\",\"7px\")\n",
      "        $(\"#\" + divid).parent().parent().css(\"background-color\",\"#F7FBFD\")\n",
      "        $(\"#\" + divid).parent().children(\"pre\").children(\"code\").css(\"background-color\",\"#F7FBFD\")\n",
      "    };\n",
      "    hide_all_hints = function() {\n",
      "        $(\"div.hint\").parent().parent().hide();\n",
      "    };\n",
      "    show_all_hints = function() {\n",
      "        $(\"div.hint\").parent().parent().show();\n",
      "    };\n",
      "</script>\n",
      "\n",
      "<button onclick=\"show_all_hints();\" class=\"btn\">Show solutions</button> <button onclick=\"hide_all_hints();\" class=\"btn\">Hide solutions</button>"
     ]
    },
    {
     "cell_type": "heading",
     "level": 2,
     "metadata": {},
     "source": [
      "5. Hovering above the Data"
     ]
    },
    {
     "cell_type": "code",
     "collapsed": false,
     "input": [
      "from __future__ import division\n",
      "\n",
      "import numpy as np\n",
      "from six.moves import zip\n",
      "from collections import OrderedDict\n",
      "from bokeh.plotting import *\n",
      "from bokeh.objects import HoverTool"
     ],
     "language": "python",
     "metadata": {},
     "outputs": []
    },
    {
     "cell_type": "code",
     "collapsed": false,
     "input": [
      "output_notebook()"
     ],
     "language": "python",
     "metadata": {},
     "outputs": []
    },
    {
     "cell_type": "code",
     "collapsed": false,
     "input": [
      "# Create a set of tools to use\n",
      "TOOLS=\"pan,wheel_zoom,box_zoom,reset,hover\"\n",
      "\n",
      "xx, yy = np.meshgrid(xrange(0,101,4), xrange(0,101,4))\n",
      "x = xx.flatten()\n",
      "y = yy.flatten()\n",
      "N = len(x)\n",
      "inds = [str(i) for i in np.arange(N)]\n",
      "radii = np.random.random(size=N)*0.4 + 1.7\n",
      "colors = [\n",
      "    \"#%02x%02x%02x\" % (r, g, 150) for r, g in zip(np.floor(50+2*x), np.floor(30+2*y))\n",
      "]"
     ],
     "language": "python",
     "metadata": {},
     "outputs": []
    },
    {
     "cell_type": "code",
     "collapsed": false,
     "input": [
      "# EXERCISE: create two new data fields for the hover tool to interrogate. They can\n",
      "# be anything you like, but it needs to have the same length as x, y, etc.\n",
      "foo =\n",
      "bar ="
     ],
     "language": "python",
     "metadata": {},
     "outputs": []
    },
    {
     "cell_type": "markdown",
     "metadata": {},
     "source": [
      "<button onclick=\"toggle_md_cell('hint1')\"; class=\"btn\">Show solution</button>"
     ]
    },
    {
     "cell_type": "markdown",
     "metadata": {},
     "source": [
      "```python\n",
      "foo = list(itertools.permutations(\"abcdef\"))[:N]\n",
      "bar = np.random.normal(size=N)\n",
      "```\n",
      "<div id=\"hint1\" class=\"hint\"></div>"
     ]
    },
    {
     "cell_type": "code",
     "collapsed": false,
     "input": [
      "# We need to put these data into a ColumnDataSource\n",
      "source = ColumnDataSource(\n",
      "    data=dict(\n",
      "        x=x,\n",
      "        y=y,\n",
      "        radius=radii,\n",
      "        colors=colors,\n",
      "        foo=foo,\n",
      "        bar=bar,\n",
      "    )\n",
      ")"
     ],
     "language": "python",
     "metadata": {},
     "outputs": []
    },
    {
     "cell_type": "code",
     "collapsed": false,
     "input": [
      "hold()\n",
      "\n",
      "# This is identical to the scatter exercise, but adds the 'source' parameter\n",
      "circle(x, y, radius=radii, source=source, tools=TOOLS,\n",
      "       fill_color=colors, fill_alpha=0.6,\n",
      "       line_color=None, Title=\"Hoverful Scatter\")"
     ],
     "language": "python",
     "metadata": {},
     "outputs": []
    },
    {
     "cell_type": "code",
     "collapsed": false,
     "input": [
      "# EXERCISE (optional) add a `text` renderer to display the index of each circle\n",
      "# inside the circle"
     ],
     "language": "python",
     "metadata": {},
     "outputs": []
    },
    {
     "cell_type": "markdown",
     "metadata": {},
     "source": [
      "<button onclick=\"toggle_md_cell('hint2')\"; class=\"btn\">Show solution</button>"
     ]
    },
    {
     "cell_type": "markdown",
     "metadata": {},
     "source": [
      "```python\n",
      "text(x, y, text=inds, alpha=0.5, text_font_size=\"5pt\",\n",
      "     text_baseline=\"middle\", text_align=\"center\", angle=0)\n",
      "```\n",
      "<div id=\"hint2\" class=\"hint\"></div>"
     ]
    },
    {
     "cell_type": "code",
     "collapsed": false,
     "input": [
      "# EXERCISE: try other \"marker-like\" renderers besides `circle`"
     ],
     "language": "python",
     "metadata": {},
     "outputs": []
    },
    {
     "cell_type": "code",
     "collapsed": false,
     "input": [
      "# We want to add some fields for the hover tool to interrogate, but first we\n",
      "# have to get ahold of the tool. This will be made easier in future releases.\n",
      "hover = [t for t in curplot().tools if isinstance(t, HoverTool)][0]"
     ],
     "language": "python",
     "metadata": {},
     "outputs": []
    },
    {
     "cell_type": "code",
     "collapsed": false,
     "input": [
      "# EXERCISE: add some new tooltip (name, value) pairs. Variables from the\n",
      "# data source are available with a \"@\" prefix, e.g., \"@x\" will display the\n",
      "# x value under the cursor. There are also some special known values that\n",
      "# start with \"$\" symbol:\n",
      "#   - $index     index of selected point in the data source\n",
      "#   - $x, $y     \"data\" coordinates under cursor\n",
      "#   - $sx, $sy   canvas coordinates under cursor\n",
      "#   - $color     color data from data source, syntax: $color[options]:field_name\n",
      "# NOTE: we use an OrderedDict to preserve the order in the displayed tooltip\n",
      "hover.tooltips = OrderedDict([\n",
      "    # add to this\n",
      "    (\"(x,y)\", \"($x, $y)\"),\n",
      "    (\"fill color\", \"$color[hex, swatch]:colors\"),\n",
      "])"
     ],
     "language": "python",
     "metadata": {},
     "outputs": []
    },
    {
     "cell_type": "markdown",
     "metadata": {},
     "source": [
      "<button onclick=\"toggle_md_cell('hint3')\"; class=\"btn\">Show solution</button>"
     ]
    },
    {
     "cell_type": "markdown",
     "metadata": {},
     "source": [
      "```python\n",
      "hover.tooltips = OrderedDict([\n",
      "    # add to this\n",
      "    (\"index\", \"$index\"),\n",
      "    (\"(x,y)\", \"($x, $y)\"),\n",
      "    (\"radius\", \"@radius\"),\n",
      "    (\"fill color\", \"$color[hex, swatch]:fill_color\"),\n",
      "    (\"foo\", \"@foo\"),\n",
      "    (\"bar\", \"@bar\"),\n",
      "])\n",
      "```\n",
      "<div id=\"hint3\" class=\"hint\"></div>"
     ]
    },
    {
     "cell_type": "code",
     "collapsed": false,
     "input": [
      "show()"
     ],
     "language": "python",
     "metadata": {},
     "outputs": []
    },
    {
     "cell_type": "markdown",
     "metadata": {},
     "source": [
      "<script>\n",
      "    hide_all_hints();\n",
      "</script>"
     ]
    }
   ],
   "metadata": {}
  }
 ]
}