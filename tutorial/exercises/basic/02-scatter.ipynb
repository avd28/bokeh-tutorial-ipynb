{
 "metadata": {
  "name": "",
  "signature": "sha256:c11b43a925edf217a93463f7e4d856c7efff03f4c4dcf742420a01480f9c7130"
 },
 "nbformat": 3,
 "nbformat_minor": 0,
 "worksheets": [
  {
   "cells": [
    {
     "cell_type": "heading",
     "level": 2,
     "metadata": {},
     "source": [
      "<div style=\"float:left\">\n",
      "    <a href=\"http://bokeh.pydata.org/\">\n",
      "    <img src=\"http://bokeh.pydata.org/_static/bokeh-transparent.png\" style=\"display:inline-block; width:90px\"></a>\n",
      "    <h1  style=\"display:inline-block\">Bokeh tutorial - Basic Exercises</h1>\n",
      "</div>"
     ]
    },
    {
     "cell_type": "markdown",
     "metadata": {},
     "source": [
      "This is the IPython Notebook version of the Bokeh Tutorial availabled at http://bokeh.pydata.org/tutorial/index.html."
     ]
    },
    {
     "cell_type": "markdown",
     "metadata": {},
     "source": [
      "This Tutorial allows you to attempt the exercises first without seeing the solutions.\n",
      "\n",
      "<script>\n",
      "    toggle_md_cell = function(divid) {\n",
      "        $(\"#\" + divid).parent().parent().toggle();\n",
      "        // Style for solution cells //\n",
      "        $(\"#\" + divid).parent().parent().css(\"border\",\"1px solid rgba(0 , 0 , 0 , 0.15)\")\n",
      "        $(\"#\" + divid).parent().parent().css(\"border-radius\",\"7px\")\n",
      "        $(\"#\" + divid).parent().parent().css(\"background-color\",\"#F7FBFD\")\n",
      "        $(\"#\" + divid).parent().children(\"pre\").children(\"code\").css(\"background-color\",\"#F7FBFD\")\n",
      "    };\n",
      "    hide_all_hints = function() {\n",
      "        $(\"div.hint\").parent().parent().hide();\n",
      "    };\n",
      "    show_all_hints = function() {\n",
      "        $(\"div.hint\").parent().parent().show();\n",
      "    };\n",
      "</script>\n",
      "\n",
      "<button onclick=\"show_all_hints();\" class=\"btn\">Show solutions</button> <button onclick=\"hide_all_hints();\" class=\"btn\">Hide solutions</button>"
     ]
    },
    {
     "cell_type": "heading",
     "level": 2,
     "metadata": {},
     "source": [
      "2. Scattering Points"
     ]
    },
    {
     "cell_type": "code",
     "collapsed": false,
     "input": [
      "from __future__ import division\n",
      "\n",
      "import numpy as np\n",
      "from six.moves import zip\n",
      "from bokeh.plotting import *\n",
      "from bokeh.objects import Range1d"
     ],
     "language": "python",
     "metadata": {},
     "outputs": []
    },
    {
     "cell_type": "code",
     "collapsed": false,
     "input": [
      "output_notebook()"
     ],
     "language": "python",
     "metadata": {},
     "outputs": []
    },
    {
     "cell_type": "code",
     "collapsed": false,
     "input": [
      "# Recreate the Fermat spiral from the last exercise, with some different scalings\n",
      "# and number of turnings\n",
      "theta1 = np.linspace(0, 256*np.pi, 500)[1:]\n",
      "f1 = theta1**(1/2)\n",
      "x1 = 0.5*f1*np.cos(theta1)\n",
      "y1 = 0.5*f1*np.sin(theta1)\n",
      "\n",
      "theta2 = np.linspace(0, 96*np.pi, 500)[1:]\n",
      "f2 = theta2**(1/2)\n",
      "x2 = f2*f2*np.cos(theta2)\n",
      "y2 = f2*f2*np.sin(theta2)\n",
      "\n",
      "theta3 = np.linspace(0, 32*np.pi, 500)[1:]\n",
      "f3 = 2*theta3**(1/2)\n",
      "x3 = 2*f3*np.cos(theta3)\n",
      "y3 = 2*f3*np.sin(theta3)\n",
      "\n",
      "# Create a set of tools to use\n",
      "TOOLS=\"pan,wheel_zoom,box_zoom,reset,previewsave\""
     ],
     "language": "python",
     "metadata": {},
     "outputs": []
    },
    {
     "cell_type": "code",
     "collapsed": false,
     "input": [
      "# EXERCISE: create two Range1d objects to reuse in the plots. Use the [-20, 20]\n",
      "# for the bounds. Note: Range1d's are initialized like: Range1d(start=0, end=1)"
     ],
     "language": "python",
     "metadata": {},
     "outputs": []
    },
    {
     "cell_type": "markdown",
     "metadata": {},
     "source": [
      "<button onclick=\"toggle_md_cell('hint1')\"; class=\"btn\">Show solution</button>"
     ]
    },
    {
     "cell_type": "markdown",
     "metadata": {},
     "source": [
      "```python\n",
      "xr = Range1d(start=-20, end=20)\n",
      "yr = Range1d(start=-20, end=20)\n",
      "```\n",
      "<div id=\"hint1\" class=\"hint\"></div>"
     ]
    },
    {
     "cell_type": "code",
     "collapsed": false,
     "input": [
      "# EXERCISE: Plot all the sets of points on different plots. Use the ranges above\n",
      "# for x_range and y_range. Set different colors as well. Try setting line_color\n",
      "# and fill_color instead of just color. You can also set alpha, line_alpha, and\n",
      "# fill_alpha if you like. Set tools to TOOLS on the first renderer. Change\n",
      "# the value of the 'marker' parameter, \"circle\", \"square\", \"triangle\", etc. One\n",
      "# example is given\n",
      "scatter(x1, y1, size=12, color=\"red\", alpha=0.5,\n",
      "        x_range=xr, y_range=yr, tools=TOOLS)"
     ],
     "language": "python",
     "metadata": {},
     "outputs": []
    },
    {
     "cell_type": "markdown",
     "metadata": {},
     "source": [
      "<button onclick=\"toggle_md_cell('hint2')\"; class=\"btn\">Show solution</button>"
     ]
    },
    {
     "cell_type": "markdown",
     "metadata": {},
     "source": [
      "```python\n",
      "scatter(x1, y1, size=12, color=\"red\", alpha=0.5,\n",
      "        x_range=xr, y_range=yr, tools=TOOLS)\n",
      "scatter(x2, y2, size=12, color=\"blue\", fill_alpha=0.5,\n",
      "        x_range=xr, y_range=yr, marker=\"square\")\n",
      "scatter(x3, y3, size=12, fill_color=\"green\", line_color=\"orange\",\n",
      "        x_range=xr, y_range=yr, marker=\"triangle\")\n",
      "\n",
      "```\n",
      "<div id=\"hint2\" class=\"hint\"></div>"
     ]
    },
    {
     "cell_type": "code",
     "collapsed": false,
     "input": [
      "# EXERCISE: Try panning and zooming one of the plots with another one visible!\n",
      "# Set the plot_width and plot_height to smaller if necessary"
     ],
     "language": "python",
     "metadata": {},
     "outputs": []
    },
    {
     "cell_type": "code",
     "collapsed": false,
     "input": [
      "# EXERCISE: create a new figure"
     ],
     "language": "python",
     "metadata": {},
     "outputs": []
    },
    {
     "cell_type": "markdown",
     "metadata": {},
     "source": [
      "<button onclick=\"toggle_md_cell('hint3')\"; class=\"btn\">Show solution</button>"
     ]
    },
    {
     "cell_type": "markdown",
     "metadata": {},
     "source": [
      "```python\n",
      "figure()\n",
      "```\n",
      "<div id=\"hint3\" class=\"hint\"></div>"
     ]
    },
    {
     "cell_type": "code",
     "collapsed": false,
     "input": [
      "# Lets plot 4000 circles, you can play around with this if you like\n",
      "N = 4000\n",
      "\n",
      "# Create a bunch of random points, radii and colors for plotting\n",
      "x = np.random.random(size=N) * 100\n",
      "y = np.random.random(size=N) * 100\n",
      "radii = np.random.random(size=N) * 1.5\n",
      "colors = [\n",
      "    \"#%02x%02x%02x\" % (r, g, 150) for r, g in zip(np.floor(50+2*x), np.floor(30+2*y))\n",
      "]"
     ],
     "language": "python",
     "metadata": {},
     "outputs": []
    },
    {
     "cell_type": "code",
     "collapsed": false,
     "input": [
      "# EXERCISE: use the `circle` renderer to scatter all the circles. Set the\n",
      "# 'fill_color' to the colors above, the 'line_color' to None, and the 'radius'\n",
      "# to the radii. Also try setting the fill_alpha to something less than one.\n",
      "# Use TOOLS from above to set a tools parameter."
     ],
     "language": "python",
     "metadata": {},
     "outputs": []
    },
    {
     "cell_type": "markdown",
     "metadata": {},
     "source": [
      "<button onclick=\"toggle_md_cell('hint4')\"; class=\"btn\">Show solution</button>"
     ]
    },
    {
     "cell_type": "markdown",
     "metadata": {},
     "source": [
      "```python\n",
      "circle(x, y, radius=radii,\n",
      "       fill_color=colors, fill_alpha=0.6,\n",
      "       line_color=None, Title=\"Colorful Scatter\")\n",
      "```\n",
      "<div id=\"hint4\" class=\"hint\"></div>"
     ]
    },
    {
     "cell_type": "code",
     "collapsed": false,
     "input": [
      "# NOTE: since we are passing 'radius' as a parameter, the size of the circles\n",
      "# is computed in **data** space, not in pixels. If you'd like to specify\n",
      "# radii in pixels, use: radius_units=\"screen\"\n",
      "\n",
      "show()  # open a browser"
     ],
     "language": "python",
     "metadata": {},
     "outputs": []
    },
    {
     "cell_type": "markdown",
     "metadata": {},
     "source": [
      "<script>\n",
      "    hide_all_hints();\n",
      "</script>"
     ]
    }
   ],
   "metadata": {}
  }
 ]
}