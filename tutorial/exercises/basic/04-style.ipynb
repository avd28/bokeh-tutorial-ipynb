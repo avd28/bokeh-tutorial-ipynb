{
 "metadata": {
  "name": "",
  "signature": "sha256:a4f298cf2d0bd7f56c6e5e21adff206de84e85e9f7d8690ca6ce9a4687306b7d"
 },
 "nbformat": 3,
 "nbformat_minor": 0,
 "worksheets": [
  {
   "cells": [
    {
     "cell_type": "heading",
     "level": 2,
     "metadata": {},
     "source": [
      "<div style=\"float:left\">\n",
      "    <a href=\"http://bokeh.pydata.org/\">\n",
      "    <img src=\"http://bokeh.pydata.org/_static/bokeh-transparent.png\" style=\"display:inline-block; width:90px\"></a>\n",
      "    <h1  style=\"display:inline-block\">Bokeh tutorial - Basic Exercises</h1>\n",
      "</div>"
     ]
    },
    {
     "cell_type": "markdown",
     "metadata": {},
     "source": [
      "This is the IPython Notebook version of the Bokeh Tutorial availabled at http://bokeh.pydata.org/tutorial/index.html."
     ]
    },
    {
     "cell_type": "markdown",
     "metadata": {},
     "source": [
      "This Tutorial allows you to attempt the exercises first without seeing the solutions.\n",
      "\n",
      "<script>\n",
      "    toggle_md_cell = function(divid) {\n",
      "        $(\"#\" + divid).parent().parent().toggle();\n",
      "        // Style for solution cells //\n",
      "        $(\"#\" + divid).parent().parent().css(\"border\",\"1px solid rgba(0 , 0 , 0 , 0.15)\")\n",
      "        $(\"#\" + divid).parent().parent().css(\"border-radius\",\"7px\")\n",
      "        $(\"#\" + divid).parent().parent().css(\"background-color\",\"#F7FBFD\")\n",
      "        $(\"#\" + divid).parent().children(\"pre\").children(\"code\").css(\"background-color\",\"#F7FBFD\")\n",
      "    };\n",
      "    hide_all_hints = function() {\n",
      "        $(\"div.hint\").parent().parent().hide();\n",
      "    };\n",
      "    show_all_hints = function() {\n",
      "        $(\"div.hint\").parent().parent().show();\n",
      "    };\n",
      "</script>\n",
      "\n",
      "<button onclick=\"show_all_hints();\" class=\"btn\">Show solutions</button> <button onclick=\"hide_all_hints();\" class=\"btn\">Hide solutions</button>"
     ]
    },
    {
     "cell_type": "heading",
     "level": 2,
     "metadata": {},
     "source": [
      "4. Styling your plots"
     ]
    },
    {
     "cell_type": "code",
     "collapsed": false,
     "input": [
      "import numpy as np\n",
      "import pandas as pd\n",
      "from bokeh.plotting import *"
     ],
     "language": "python",
     "metadata": {},
     "outputs": []
    },
    {
     "cell_type": "code",
     "collapsed": false,
     "input": [
      "output_notebook()"
     ],
     "language": "python",
     "metadata": {},
     "outputs": []
    },
    {
     "cell_type": "code",
     "collapsed": false,
     "input": [
      "# Define some categories\n",
      "categories = [\n",
      "    'ousia', 'poson', 'poion', 'pros ti', 'pou',\n",
      "    'pote', 'keisthai', 'echein', 'poiein', 'paschein',\n",
      "]\n",
      "\n",
      "# Create data\n",
      "N = 10\n",
      "data = { cat : np.random.randint(10, 100, size=N) for cat in categories }\n",
      "\n",
      "# Define a little function to stack series together to make polygons. Soon\n",
      "# this will be built into Bokeh.\n",
      "def stacked(data, categories):\n",
      "    ys = []\n",
      "    last = np.zeros(len(data.values()[0]))\n",
      "    for cat in categories:\n",
      "        next = last + data[cat]\n",
      "        ys.append(np.hstack((last[::-1], next)))\n",
      "        last = next\n",
      "    return ys\n",
      "\n",
      "# Get the y coordinates of the stacked data\n",
      "ys = stacked(data, categories)\n",
      "\n",
      "# The x coordinates for each polygon are simply the series concatenated\n",
      "# with its reverse.\n",
      "xs = [np.hstack((categories[::-1], categories))] * len(ys)\n",
      "\n",
      "# Pick out a color palette\n",
      "colors = brewer[\"Spectral\"][len(ys)]"
     ],
     "language": "python",
     "metadata": {},
     "outputs": []
    },
    {
     "cell_type": "code",
     "collapsed": false,
     "input": [
      "# EXERCISE: play around with parameters like:\n",
      "#   - line_color\n",
      "#   - line_alpha\n",
      "#   - line_width\n",
      "#   - line_dash   (e.g., [2,4])\n",
      "#   - fill_color\n",
      "#   - fill_alpha\n",
      "#   - background_fill\n",
      "patches(xs, ys, x_range=categories, y_range=[0, 800],\n",
      "        color=colors, alpha=0.8, line_color=None, background_fill=\"lightgrey\",\n",
      "        title=\"Categories of Brewering\")"
     ],
     "language": "python",
     "metadata": {},
     "outputs": []
    },
    {
     "cell_type": "code",
     "collapsed": false,
     "input": [
      "# EXERCISE: configure all of the following plot properties\n",
      "ygrid().grid_line_color =            # color, or None, to suppress the line\n",
      "ygrid().grid_line_width =            # line width for grid lines\n",
      "axis().major_label_text_font_size =  # \"12pt\", \"1.5em\", \"10px\", etc\n",
      "axis().major_label_text_font_style = # \"bold\", \"normal\", \"italic\"\n",
      "axis().major_label_standoff =        # distance of tick labels from ticks\n",
      "axis().axis_line_color =             # color, or None, to suppress the line\n",
      "xaxis().major_label_orientation =    # radians, \"horizontal\", \"vertical\", \"normal\"\n",
      "xaxis().major_tick_in =              # distance ticks extends into the plot\n",
      "xaxis().major_tick_out =             # and distance they extend out\n",
      "xaxis().major_tick_line_color =      # color, or None, to suppress the line"
     ],
     "language": "python",
     "metadata": {},
     "outputs": []
    },
    {
     "cell_type": "markdown",
     "metadata": {},
     "source": [
      "<button onclick=\"toggle_md_cell('hint1')\"; class=\"btn\">Show solution</button>"
     ]
    },
    {
     "cell_type": "markdown",
     "metadata": {},
     "source": [
      "```python\n",
      "ygrid().grid_line_color = \"white\"\n",
      "ygrid().grid_line_width = 2\n",
      "axis().major_label_text_font_size = \"12pt\"\n",
      "axis().major_label_text_font_style = \"bold\"\n",
      "axis().major_label_standoff = 10            # distance of tick labels from ticks\n",
      "axis().axis_line_color = None               # color, or None, to suppress the line\n",
      "xaxis().major_label_orientation = np.pi/4   # radians, \"horizontal\", \"vertical\", \"normal\"\n",
      "xaxis().major_tick_in = 10                  # distance ticks extends into the plot\n",
      "xaxis().major_tick_out = 0                  # and distance they extend out\n",
      "xaxis().major_tick_line_color = \"white\"\n",
      "```\n",
      "<div id=\"hint1\" class=\"hint\"></div>"
     ]
    },
    {
     "cell_type": "code",
     "collapsed": false,
     "input": [
      "show()"
     ],
     "language": "python",
     "metadata": {},
     "outputs": []
    },
    {
     "cell_type": "markdown",
     "metadata": {},
     "source": [
      "<script>\n",
      "    hide_all_hints();\n",
      "</script>"
     ]
    }
   ],
   "metadata": {}
  }
 ]
}