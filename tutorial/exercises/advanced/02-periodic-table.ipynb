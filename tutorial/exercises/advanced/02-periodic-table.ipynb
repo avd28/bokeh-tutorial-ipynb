{
 "metadata": {
  "name": "",
  "signature": "sha256:3c56c493739cc89570d8f5102ea70d2a4f67a38a8b3c3565d966506b5d864fab"
 },
 "nbformat": 3,
 "nbformat_minor": 0,
 "worksheets": [
  {
   "cells": [
    {
     "cell_type": "heading",
     "level": 2,
     "metadata": {},
     "source": [
      "<div style=\"float:left\">\n",
      "    <a href=\"http://bokeh.pydata.org/\">\n",
      "    <img src=\"http://bokeh.pydata.org/_static/bokeh-transparent.png\" style=\"display:inline-block; width:90px\"></a>\n",
      "    <h1  style=\"display:inline-block\">Bokeh tutorial - Advanced Exercises</h1>\n",
      "</div>"
     ]
    },
    {
     "cell_type": "markdown",
     "metadata": {},
     "source": [
      "This is the IPython Notebook version of the Bokeh Tutorial availabled at http://bokeh.pydata.org/tutorial/index.html."
     ]
    },
    {
     "cell_type": "markdown",
     "metadata": {},
     "source": [
      "This Tutorial allows you to attempt the exercises without seeing the solutions, click the `Show solution` button after each  exercise whenever you are ready to check your code.\n",
      "\n",
      "<script>\n",
      "    toggle_md_cell = function(divid) {\n",
      "        $(\"#\" + divid).parent().parent().toggle();\n",
      "        // Style for solution cells //\n",
      "        $(\"#\" + divid).parent().parent().css(\"border\",\"1px solid rgba(0 , 0 , 0 , 0.15)\")\n",
      "        $(\"#\" + divid).parent().parent().css(\"border-radius\",\"7px\")\n",
      "        $(\"#\" + divid).parent().parent().css(\"background-color\",\"#F7FBFD\")\n",
      "        $(\"#\" + divid).parent().children(\"pre\").children(\"code\").css(\"background-color\",\"#F7FBFD\")\n",
      "    };\n",
      "    hide_all_hints = function() {\n",
      "        $(\"div.hint\").parent().parent().hide();\n",
      "    };\n",
      "    show_all_hints = function() {\n",
      "        $(\"div.hint\").parent().parent().show();\n",
      "    };\n",
      "</script>\n",
      "\n",
      "<button onclick=\"show_all_hints();\" class=\"btn\">Show solutions</button> <button onclick=\"hide_all_hints();\" class=\"btn\">Hide solutions</button>"
     ]
    },
    {
     "cell_type": "heading",
     "level": 2,
     "metadata": {},
     "source": [
      "2. Periodic table"
     ]
    },
    {
     "cell_type": "code",
     "collapsed": false,
     "input": [
      "import pandas as pd\n",
      "from bokeh.plotting import *\n",
      "from bokeh.sampledata import periodic_table\n",
      "from bokeh.objects import HoverTool, ColumnDataSource\n",
      "from collections import OrderedDict"
     ],
     "language": "python",
     "metadata": {},
     "outputs": []
    },
    {
     "cell_type": "code",
     "collapsed": false,
     "input": [
      "output_notebook()"
     ],
     "language": "python",
     "metadata": {},
     "outputs": []
    },
    {
     "cell_type": "code",
     "collapsed": false,
     "input": [
      "# categories need to be strings\n",
      "elements = periodic_table.elements[periodic_table.elements['group'] != \"-\"]\n",
      "\n",
      "# The categorical ranges need to be strings, so convert the groups and periods\n",
      "group_range = [str(x) for x in range(1,19)]\n",
      "period_range = [str(x) for x in reversed(sorted(set(elements['period'])))]\n",
      "\n",
      "# Output static HTML file\n",
      "output_file(\"periodic.html\")\n",
      "\n",
      "# I like this colormap OK, but feel free to change it up\n",
      "colormap = {\n",
      "    'alkali metal'         : \"#a6cee3\",\n",
      "    'alkaline earth metal' : \"#1f78b4\",\n",
      "    'halogen'              : \"#fdbf6f\",\n",
      "    'metal'                : \"#b2df8a\",\n",
      "    'metalloid'            : \"#33a02c\",\n",
      "    'noble gas'            : \"#bbbb88\",\n",
      "    'nonmetal'             : \"#baa2a6\",\n",
      "    'transition metal'     : \"#e08e79\",\n",
      "}\n",
      "\n",
      "# There are lots of things about each element we might want a hover tool\n",
      "# to be able to display, so put them all in a ColumnDataSource\n",
      "source = ColumnDataSource(\n",
      "    data=dict(\n",
      "        group=[str(x) for x in elements['group']],\n",
      "        period=[str(y) for y in elements['period']],\n",
      "        symx=[str(x)+\":0.1\" for x in elements['group']],\n",
      "        numbery=[str(x)+\":0.8\" for x in elements['period']],\n",
      "        massy=[str(x)+\":0.15\" for x in elements['period']],\n",
      "        namey=[str(x)+\":0.3\" for x in elements['period']],\n",
      "        sym=elements['symbol'],\n",
      "        name=elements['name'],\n",
      "        cpk=elements['CPK'],\n",
      "        atomic_number=elements['atomic number'],\n",
      "        electronic=elements['electronic configuration'],\n",
      "        mass=elements['atomic mass'],\n",
      "        type=elements['metal'],\n",
      "        type_color=[colormap[x] for x in elements['metal']],\n",
      "    )\n",
      ")\n",
      "\n",
      "hold()"
     ],
     "language": "python",
     "metadata": {},
     "outputs": []
    },
    {
     "cell_type": "code",
     "collapsed": false,
     "input": [
      "# EXERCISE: add a `rect` renderer to display a rectangle at each group and column\n",
      "# Use group_range for x_range and period_range for y_range. Rememeber to add a\n",
      "# 'hover' to the tools and make your plot fairly wide."
     ],
     "language": "python",
     "metadata": {},
     "outputs": []
    },
    {
     "cell_type": "markdown",
     "metadata": {},
     "source": [
      "<button onclick=\"toggle_md_cell('hint1')\"; class=\"btn\">Show solution</button>"
     ]
    },
    {
     "cell_type": "markdown",
     "metadata": {},
     "source": [
      "```python\n",
      "rect(\"group\", \"period\", 0.9, 0.9, source=source,\n",
      "     x_range=group_range, y_range=period_range,\n",
      "     fill_alpha=0.6, color=\"type_color\",\n",
      "     tools=\"resize,hover\", title=\"Periodic Table\",\n",
      "     plot_width=1200)\n",
      "```\n",
      "<div id=\"hint1\" class=\"hint\"></div>"
     ]
    },
    {
     "cell_type": "code",
     "collapsed": false,
     "input": [
      "# EXERCISE: we will be setting several of the same properties on the text renderers\n",
      "# below. Add to this dictionary to set the text alignment to 'left' and the text\n",
      "# baseline to 'middle'\n",
      "text_props = {\n",
      "    \"source\": source,\n",
      "    \"angle\": 0,\n",
      "    \"color\": \"black\",\n",
      "}"
     ],
     "language": "python",
     "metadata": {},
     "outputs": []
    },
    {
     "cell_type": "markdown",
     "metadata": {},
     "source": [
      "<button onclick=\"toggle_md_cell('hint2')\"; class=\"btn\">Show solution</button>"
     ]
    },
    {
     "cell_type": "markdown",
     "metadata": {},
     "source": [
      "```python\n",
      "text_props = {\n",
      "    \"source\": source,\n",
      "    \"angle\": 0,\n",
      "    \"color\": \"black\",\n",
      "    \"text_align\": \"left\",\n",
      "    \"text_baseline\": \"middle\"\n",
      "}\n",
      "```\n",
      "<div id=\"hint2\" class=\"hint\"></div>"
     ]
    },
    {
     "cell_type": "code",
     "collapsed": false,
     "input": [
      "# Since text can be interpreted as a data source field name in general, we have\n",
      "# to specify the text a little more verbosely with a dictionary, as below\n",
      "text(x=dict(field=\"symx\", units=\"data\"),\n",
      "     y=dict(field=\"period\", units=\"data\"),\n",
      "     text=dict(field=\"sym\", units=\"data\"),\n",
      "     text_font_style=\"bold\", text_font_size=\"15pt\", **text_props)"
     ],
     "language": "python",
     "metadata": {},
     "outputs": []
    },
    {
     "cell_type": "code",
     "collapsed": false,
     "input": [
      "# EXERCISE: add text that displays the atomic number in each square with 9pt font.\n",
      "# Use 'numbery' for the y position."
     ],
     "language": "python",
     "metadata": {},
     "outputs": []
    },
    {
     "cell_type": "markdown",
     "metadata": {},
     "source": [
      "<button onclick=\"toggle_md_cell('hint3')\"; class=\"btn\">Show solution</button>"
     ]
    },
    {
     "cell_type": "markdown",
     "metadata": {},
     "source": [
      "```python\n",
      "text(x=dict(field=\"symx\", units=\"data\"),\n",
      "     y=dict(field=\"numbery\", units=\"data\"),\n",
      "     text=dict(field=\"atomic_number\", units=\"data\"),\n",
      "     text_font_size=\"9pt\", **text_props)\n",
      "```\n",
      "<div id=\"hint3\" class=\"hint\"></div>"
     ]
    },
    {
     "cell_type": "code",
     "collapsed": false,
     "input": [
      "# EXERCISE: add text that displays the full name in each square with 6pt font\n",
      "# Use 'namey' for the y position."
     ],
     "language": "python",
     "metadata": {},
     "outputs": []
    },
    {
     "cell_type": "markdown",
     "metadata": {},
     "source": [
      "<button onclick=\"toggle_md_cell('hint4')\"; class=\"btn\">Show solution</button>"
     ]
    },
    {
     "cell_type": "markdown",
     "metadata": {},
     "source": [
      "```python\n",
      "text(x=dict(field=\"symx\", units=\"data\"),\n",
      "     y=dict(field=\"namey\", units=\"data\"),\n",
      "     text=dict(field=\"name\", units=\"data\"),\n",
      "     text_font_size=\"6pt\", **text_props)\n",
      "```\n",
      "<div id=\"hint4\" class=\"hint\"></div>"
     ]
    },
    {
     "cell_type": "code",
     "collapsed": false,
     "input": [
      "# EXERCISE: add text that displays the atomic mass each square in 5pt font\n",
      "# Use 'massy' for the y position."
     ],
     "language": "python",
     "metadata": {},
     "outputs": []
    },
    {
     "cell_type": "markdown",
     "metadata": {},
     "source": [
      "<button onclick=\"toggle_md_cell('hint5')\"; class=\"btn\">Show solution</button>"
     ]
    },
    {
     "cell_type": "markdown",
     "metadata": {},
     "source": [
      "```python\n",
      "text(x=dict(field=\"symx\", units=\"data\"),\n",
      "     y=dict(field=\"massy\", units=\"data\"),\n",
      "     text=dict(field=\"mass\", units=\"data\"),\n",
      "     text_font_size=\"5pt\", **text_props)\n",
      "```\n",
      "<div id=\"hint5\" class=\"hint\"></div>"
     ]
    },
    {
     "cell_type": "code",
     "collapsed": false,
     "input": [
      "# turn off the grid lines\n",
      "grid().grid_line_color = None"
     ],
     "language": "python",
     "metadata": {},
     "outputs": []
    },
    {
     "cell_type": "code",
     "collapsed": false,
     "input": [
      "# EXERCISE: configure a hover tool that displays the following:\n",
      "# * name\n",
      "# * atomic number\n",
      "# * type\n",
      "# * atomic mass\n",
      "# * CPK color\n",
      "# * electronic configuration\n",
      "hover = [t for t in curplot().tools if isinstance(t, HoverTool)][0]\n",
      "hover.tooltips = OrderedDict([\n",
      "    # add to me\n",
      "])"
     ],
     "language": "python",
     "metadata": {},
     "outputs": []
    },
    {
     "cell_type": "markdown",
     "metadata": {},
     "source": [
      "<button onclick=\"toggle_md_cell('hint6')\"; class=\"btn\">Show solution</button>"
     ]
    },
    {
     "cell_type": "markdown",
     "metadata": {},
     "source": [
      "```python\n",
      "hover = [t for t in curplot().tools if isinstance(t, HoverTool)][0]\n",
      "hover.tooltips = OrderedDict([\n",
      "    (\"name\", \"@name\"),\n",
      "    (\"atomic number\", \"@atomic_number\"),\n",
      "    (\"type\", \"@type\"),\n",
      "    (\"atomic mass\", \"@mass\"),\n",
      "    (\"CPK color\", \"$color[hex, swatch]:cpk\"),\n",
      "    (\"electronic configuration\", \"@electronic\"),\n",
      "])\n",
      "```\n",
      "<div id=\"hint6\" class=\"hint\"></div>"
     ]
    },
    {
     "cell_type": "code",
     "collapsed": false,
     "input": [
      "show()"
     ],
     "language": "python",
     "metadata": {},
     "outputs": []
    },
    {
     "cell_type": "markdown",
     "metadata": {},
     "source": [
      "<script>\n",
      "    hide_all_hints();\n",
      "</script>"
     ]
    }
   ],
   "metadata": {}
  }
 ]
}