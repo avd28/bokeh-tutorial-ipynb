{
 "metadata": {
  "name": "",
  "signature": "sha256:56dac71e586ca8000c6b3d564247263dd953e83bc1c7212210b752306a4dcf1e"
 },
 "nbformat": 3,
 "nbformat_minor": 0,
 "worksheets": [
  {
   "cells": [
    {
     "cell_type": "heading",
     "level": 2,
     "metadata": {},
     "source": [
      "<div style=\"float:left\">\n",
      "    <a href=\"http://bokeh.pydata.org/\">\n",
      "    <img src=\"http://bokeh.pydata.org/_static/bokeh-transparent.png\" style=\"display:inline-block; width:90px\"></a>\n",
      "    <h1  style=\"display:inline-block\">Bokeh tutorial - Advanced Exercises</h1>\n",
      "</div>"
     ]
    },
    {
     "cell_type": "markdown",
     "metadata": {},
     "source": [
      "This is the IPython Notebook version of the Bokeh Tutorial availabled at http://bokeh.pydata.org/tutorial/index.html."
     ]
    },
    {
     "cell_type": "markdown",
     "metadata": {},
     "source": [
      "This Tutorial allows you to attempt the exercises without seeing the solutions, click the `Show solution` button after each  exercise whenever you are ready to check your code.\n",
      "\n",
      "<script>\n",
      "    toggle_md_cell = function(divid) {\n",
      "        $(\"#\" + divid).parent().parent().toggle();\n",
      "        // Style for solution cells //\n",
      "        $(\"#\" + divid).parent().parent().css(\"border\",\"1px solid rgba(0 , 0 , 0 , 0.15)\")\n",
      "        $(\"#\" + divid).parent().parent().css(\"border-radius\",\"7px\")\n",
      "        $(\"#\" + divid).parent().parent().css(\"background-color\",\"#F7FBFD\")\n",
      "        $(\"#\" + divid).parent().children(\"pre\").children(\"code\").css(\"background-color\",\"#F7FBFD\")\n",
      "    };\n",
      "    hide_all_hints = function() {\n",
      "        $(\"div.hint\").parent().parent().hide();\n",
      "    };\n",
      "    show_all_hints = function() {\n",
      "        $(\"div.hint\").parent().parent().show();\n",
      "    };\n",
      "</script>\n",
      "\n",
      "<button onclick=\"show_all_hints();\" class=\"btn\">Show solutions</button> <button onclick=\"hide_all_hints();\" class=\"btn\">Hide solutions</button>"
     ]
    },
    {
     "cell_type": "heading",
     "level": 2,
     "metadata": {},
     "source": [
      "1. Les Miserables Co-occurrences"
     ]
    },
    {
     "cell_type": "markdown",
     "metadata": {},
     "source": [
      "Mike Bostock\u2019s [Les Miserables Co-occurrence](http://bost.ocks.org/mike/miserables/) chart from D3 is a nice example of a larger categorical heatmap. Let\u2019s see if we can make our own chart from this data."
     ]
    },
    {
     "cell_type": "code",
     "collapsed": false,
     "input": [
      "import json\n",
      "import numpy as np\n",
      "\n",
      "from bokeh.plotting import *\n",
      "from bokeh.objects import HoverTool, ColumnDataSource\n",
      "from bokeh.sampledata.les_mis import data\n",
      "\n",
      "from collections import OrderedDict"
     ],
     "language": "python",
     "metadata": {},
     "outputs": []
    },
    {
     "cell_type": "code",
     "collapsed": false,
     "input": [
      "output_notebook()"
     ],
     "language": "python",
     "metadata": {},
     "outputs": []
    },
    {
     "cell_type": "code",
     "collapsed": false,
     "input": [
      "# EXERCISE: try out different sort orders for the names\n",
      "nodes = data['nodes']\n",
      "names = [node['name'] for node in sorted(data['nodes'], key=lambda x: x['group'])]"
     ],
     "language": "python",
     "metadata": {},
     "outputs": []
    },
    {
     "cell_type": "markdown",
     "metadata": {},
     "source": [
      "<button onclick=\"toggle_md_cell('hint1')\"; class=\"btn\">Show solution</button>"
     ]
    },
    {
     "cell_type": "markdown",
     "metadata": {},
     "source": [
      "```python\n",
      "nodes = data['nodes']\n",
      "names = [node['name'] for node in sorted(data['nodes'], key=lambda x: x['group'])]\n",
      "```\n",
      "<div id=\"hint1\" class=\"hint\"></div>"
     ]
    },
    {
     "cell_type": "code",
     "collapsed": false,
     "input": [
      "# store the links information in numpy\n",
      "N = len(nodes)\n",
      "counts = np.empty((N, N))\n",
      "for link in data['links']:\n",
      "    counts[link['source'], link['target']] = link['value']\n",
      "    counts[link['target'], link['source']] = link['value']\n",
      "\n",
      "    # We will use these colors to color each group by a different color\n",
      "colormap = [\n",
      "    \"#444444\", \"#a6cee3\", \"#1f78b4\", \"#b2df8a\", \"#33a02c\", \"#fb9a99\",\n",
      "    \"#e31a1c\", \"#fdbf6f\", \"#ff7f00\", \"#cab2d6\", \"#6a3d9a\"\n",
      "]\n",
      "\n",
      "# set up some data to plot! We will need to have values for every pair of names. The\n",
      "# co-occurrence count for a given pair of names is in `count[i,j]`. The strategy is\n",
      "# to color each rect by the group, and set its alpha based on the count.\n",
      "xname = []\n",
      "yname = []\n",
      "color = []\n",
      "alpha = []\n",
      "for i, n1 in enumerate(nodes):\n",
      "    for j, n2 in enumerate(nodes):\n",
      "        xname.append(n1['name'])\n",
      "        yname.append(n2['name'])\n",
      "\n",
      "        a = min(counts[i,j]/4.0, 0.9) + 0.1\n",
      "        alpha.append(a)\n",
      "\n",
      "        if n1['group'] == n2['group']:\n",
      "            color.append(colormap[n1['group']])\n",
      "        else:\n",
      "            color.append('lightgrey')"
     ],
     "language": "python",
     "metadata": {},
     "outputs": []
    },
    {
     "cell_type": "code",
     "collapsed": false,
     "input": [
      "# EXERCISE: create a ColumnDataSource to hold the xnames, ynames, colors, alphas,\n",
      "# and counts. NOTE: the counts array is 2D and will need to be flattened"
     ],
     "language": "python",
     "metadata": {},
     "outputs": []
    },
    {
     "cell_type": "markdown",
     "metadata": {},
     "source": [
      "<button onclick=\"toggle_md_cell('hint2')\"; class=\"btn\">Show solution</button>"
     ]
    },
    {
     "cell_type": "markdown",
     "metadata": {},
     "source": [
      "```python\n",
      "source = ColumnDataSource(\n",
      "    data=dict(\n",
      "        xname=xname,\n",
      "        yname=yname,\n",
      "        colors=color,\n",
      "        alphas=alpha,\n",
      "        count=counts.flatten(),\n",
      "    )\n",
      ")\n",
      "```\n",
      "<div id=\"hint2\" class=\"hint\"></div>"
     ]
    },
    {
     "cell_type": "code",
     "collapsed": false,
     "input": [
      "# EXERCISE: create a new figure"
     ],
     "language": "python",
     "metadata": {},
     "outputs": []
    },
    {
     "cell_type": "markdown",
     "metadata": {},
     "source": [
      "<button onclick=\"toggle_md_cell('hint3')\"; class=\"btn\">Show solution</button>"
     ]
    },
    {
     "cell_type": "markdown",
     "metadata": {},
     "source": [
      "```python\n",
      "figure()\n",
      "```\n",
      "<div id=\"hint3\" class=\"hint\"></div>"
     ]
    },
    {
     "cell_type": "code",
     "collapsed": false,
     "input": [
      "# EXERCISE: use the `rect` renderer to render a categorical heatmap of all the\n",
      "# data. Experiment with the widths and heights (use categorical percentage\n",
      "# unite) as well as colors and alphas. Add hover and resize tools."
     ],
     "language": "python",
     "metadata": {},
     "outputs": []
    },
    {
     "cell_type": "markdown",
     "metadata": {},
     "source": [
      "<button onclick=\"toggle_md_cell('hint4')\"; class=\"btn\">Show solution</button>"
     ]
    },
    {
     "cell_type": "markdown",
     "metadata": {},
     "source": [
      "```python\n",
      "rect('xname', 'yname', 0.9, 0.9, source=source,\n",
      "     x_range=list(reversed(names)), y_range=names,\n",
      "     color='colors', alpha='alphas', line_color=None,\n",
      "     tools=\"resize,hover\", title=\"Les Mis Occurrences (one at a time)\",\n",
      "     plot_width=800, plot_height=800)\n",
      "```\n",
      "<div id=\"hint4\" class=\"hint\"></div>"
     ]
    },
    {
     "cell_type": "code",
     "collapsed": false,
     "input": [
      "# EXERCISE: use grid(), axis(), etc. to style the plot. Some suggestions:\n",
      "#   - remove the axis and grid lines\n",
      "#   - remove the major ticks\n",
      "#   - make the tick labels smaller\n",
      "#   - set the x-axis orientation to vertical, or angled"
     ],
     "language": "python",
     "metadata": {},
     "outputs": []
    },
    {
     "cell_type": "markdown",
     "metadata": {},
     "source": [
      "<button onclick=\"toggle_md_cell('hint5')\"; class=\"btn\">Show solution</button>"
     ]
    },
    {
     "cell_type": "markdown",
     "metadata": {},
     "source": [
      "```python\n",
      "grid().grid_line_color = None\n",
      "axis().axis_line_color = None\n",
      "axis().major_tick_line_color = None\n",
      "axis().major_label_text_font_size = \"5pt\"\n",
      "axis().major_label_standoff = 0\n",
      "xaxis().location = \"top\"\n",
      "xaxis().major_label_orientation = np.pi/3\n",
      "```\n",
      "<div id=\"hint5\" class=\"hint\"></div>"
     ]
    },
    {
     "cell_type": "code",
     "collapsed": false,
     "input": [
      "# EXERCISE configure the  hover tool to display both names as well as\n",
      "# the count value as tooltips\n",
      "hover = [t for t in curplot().tools if isinstance(t, HoverTool)][0]\n",
      "hover.tooltips = OrderedDict([\n",
      "    # fill me in\n",
      "])"
     ],
     "language": "python",
     "metadata": {},
     "outputs": []
    },
    {
     "cell_type": "markdown",
     "metadata": {},
     "source": [
      "<button onclick=\"toggle_md_cell('hint6')\"; class=\"btn\">Show solution</button>"
     ]
    },
    {
     "cell_type": "markdown",
     "metadata": {},
     "source": [
      "```python\n",
      "hover = [t for t in curplot().tools if isinstance(t, HoverTool)][0]\n",
      "hover.tooltips = OrderedDict([\n",
      "    ('names', '@yname, @xname'),\n",
      "    ('count', '@count'),\n",
      "])\n",
      "```\n",
      "<div id=\"hint6\" class=\"hint\"></div>"
     ]
    },
    {
     "cell_type": "code",
     "collapsed": false,
     "input": [
      "show()      # show the plot"
     ],
     "language": "python",
     "metadata": {},
     "outputs": []
    },
    {
     "cell_type": "markdown",
     "metadata": {},
     "source": [
      "<script>\n",
      "    hide_all_hints();\n",
      "</script>"
     ]
    }
   ],
   "metadata": {}
  }
 ]
}