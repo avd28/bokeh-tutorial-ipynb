{
 "metadata": {
  "name": "",
  "signature": "sha256:64444061a669f46dadc43e98c1daaae4fd082f61bd2b4d44588f8c017b7ac14a"
 },
 "nbformat": 3,
 "nbformat_minor": 0,
 "worksheets": [
  {
   "cells": [
    {
     "cell_type": "heading",
     "level": 2,
     "metadata": {},
     "source": [
      "<div style=\"float:left\">\n",
      "    <a href=\"http://bokeh.pydata.org/\">\n",
      "    <img src=\"http://bokeh.pydata.org/_static/bokeh-transparent.png\" style=\"display:inline-block; width:90px\"></a>\n",
      "    <h1  style=\"display:inline-block\">Bokeh tutorial - Topical Exercises</h1>\n",
      "</div>"
     ]
    },
    {
     "cell_type": "markdown",
     "metadata": {},
     "source": [
      "This is the IPython Notebook version of the Bokeh Tutorial availabled at http://bokeh.pydata.org/tutorial/index.html."
     ]
    },
    {
     "cell_type": "heading",
     "level": 2,
     "metadata": {},
     "source": [
      "2. Histograms"
     ]
    },
    {
     "cell_type": "markdown",
     "metadata": {},
     "source": [
      "Histograms are a staple analytical tool in many analytical domains. Let\u2019s create some histograms of samples taken from various statistical distributions, together with the ideal probability density and cumulative distribution functions overlaid.\n",
      "\n",
      "Instead of the `rect` renderer, which takes a center point, width and height, we will use the `quad` renderer. It is intended for axis-aligned rectangles, and accepts coordinates for left, right, top, and bottom."
     ]
    },
    {
     "cell_type": "code",
     "collapsed": false,
     "input": [
      "import numpy as np\n",
      "import scipy.special\n",
      "\n",
      "from bokeh.plotting import *\n",
      "from bokeh.objects import Range1d\n"
     ],
     "language": "python",
     "metadata": {},
     "outputs": []
    },
    {
     "cell_type": "code",
     "collapsed": false,
     "input": [
      "output_notebook()"
     ],
     "language": "python",
     "metadata": {},
     "outputs": []
    },
    {
     "cell_type": "code",
     "collapsed": false,
     "input": [
      "mu, sigma = 0, 0.5       # NOTE: you can tinker with these values if you like\n",
      "\n",
      "# sample the distribution\n",
      "measured = np.random.normal(mu, sigma, 10000)\n",
      "hist, edges = np.histogram(measured, density=True, bins=50)\n",
      "\n",
      "# compute ideal values\n",
      "x = np.linspace(-2, 2, 10000)\n",
      "pdf = 1/(sigma * np.sqrt(2*np.pi)) * np.exp(-(x-mu)**2 / (2*sigma**2))\n",
      "cdf = (1+scipy.special.erf((x-mu)/np.sqrt(2*sigma**2)))/2"
     ],
     "language": "python",
     "metadata": {},
     "outputs": []
    },
    {
     "cell_type": "code",
     "collapsed": false,
     "input": [
      "# EXERCISE: turn on plot hold\n",
      "hold()"
     ],
     "language": "python",
     "metadata": {},
     "outputs": []
    },
    {
     "cell_type": "code",
     "collapsed": false,
     "input": [
      "# Use the `quad` renderer to display the histogram bars.\n",
      "quad(top=hist, bottom=np.zeros(len(hist)), left=edges[:-1], right=edges[1:],\n",
      "     fill_color=\"#036564\", line_color=\"#033649\",\n",
      "\n",
      "     # NOTE: these are only needed on the first renderer\n",
      "     background_fill=\"#E8DDCB\",\n",
      "     title=\"Normal Distribution (\u03bc=0, \u03c3=0.5)\",\n",
      "     tools=\"\"\n",
      ")"
     ],
     "language": "python",
     "metadata": {},
     "outputs": []
    },
    {
     "cell_type": "code",
     "collapsed": false,
     "input": [
      "# EXERCISE: supply some style parameters for the PDF and CDF `line` renderers\n",
      "line(x, pdf, legend=\"PDF\",\n",
      "     line_color=\n",
      "     line_width=\n",
      "     alpha=\n",
      ")\n",
      "line(x, cdf, legend=\"CDF\",\n",
      "     line_color=\n",
      "     line_width=\n",
      "     alpha=\n",
      ")\n",
      "line(x, pdf, line_color=\"#D95B43\", line_width=8, alpha=0.7, legend=\"PDF\")\n",
      "line(x, cdf, line_color=\"white\", line_width=2, alpha=0.7, legend=\"CDF\")"
     ],
     "language": "python",
     "metadata": {},
     "outputs": []
    },
    {
     "cell_type": "code",
     "collapsed": false,
     "input": [
      "# Move the legend to a better place.\n",
      "# Acceptable values: 'top_left', 'top_right', 'bottom_left', and 'bottom_right'\n",
      "legend().orientation = \"top_left\""
     ],
     "language": "python",
     "metadata": {},
     "outputs": []
    },
    {
     "cell_type": "code",
     "collapsed": false,
     "input": [
      "# EXERCISE: create a new figure\n",
      "figure()"
     ],
     "language": "python",
     "metadata": {},
     "outputs": []
    },
    {
     "cell_type": "code",
     "collapsed": false,
     "input": [
      "mu, sigma = 0, 0.5       # NOTE: you can tinker with these values if you like\n",
      "\n",
      "# sample the distribution\n",
      "measured = np.random.lognormal(mu, sigma, 10000)\n",
      "hist, edges = np.histogram(measured, density=True, bins=50)\n",
      "\n",
      "# compute ideal values\n",
      "x = np.linspace(0, 8.0, 10000)\n",
      "pdf = 1/(x* sigma * np.sqrt(2*np.pi)) * np.exp(-(np.log(x)-mu)**2 / (2*sigma**2))\n",
      "cdf = (1+scipy.special.erf((np.log(x)-mu)/(np.sqrt(2)*sigma)))/2"
     ],
     "language": "python",
     "metadata": {},
     "outputs": []
    },
    {
     "cell_type": "code",
     "collapsed": false,
     "input": [
      "# EXERCISE: recreate the first plot for this new data\n",
      "quad(top=hist, bottom=np.zeros(len(hist)), left=edges[:-1], right=edges[1:],\n",
      "     fill_color=\"#036564\", line_color=\"#033649\", background_fill=\"#E8DDCB\",\n",
      "     title=\"Log Normal Distribution (\u03bc=0, \u03c3=0.5)\", tools=\"\")\n",
      "line(x, pdf, line_color=\"#D95B43\", line_width=8, alpha=0.7, legend=\"PDF\")\n",
      "line(x, cdf, line_color=\"white\", line_width=2, alpha=0.7, legend=\"CDF\")\n",
      "legend().orientation = \"bottom_right\""
     ],
     "language": "python",
     "metadata": {},
     "outputs": []
    },
    {
     "cell_type": "code",
     "collapsed": false,
     "input": [
      "# EXERCISE (optional): Add new plots for the other distributions. Some code\n",
      "# has be included for the Gamme, Beta, and Weibull distributions, you will\n",
      "# need to create new figures and renderers.\n",
      "\n",
      "# code for Gamma Distribution\n",
      "\n",
      "k, theta = 1.0, 2.0\n",
      "\n",
      "# sample the distribution\n",
      "measured = np.random.gamma(k, theta, 10000)\n",
      "hist, edges = np.histogram(measured, density=True, bins=50)\n",
      "\n",
      "# compute ideal values\n",
      "x = np.linspace(0, 20.0, 10000)\n",
      "pdf = x**(k-1) * np.exp(-x/theta) / (theta**k * scipy.special.gamma(k))\n",
      "cdf = scipy.special.gammainc(k, x/theta) / scipy.special.gamma(k)\n",
      "\n",
      "# code for Beta Distribution\n",
      "\n",
      "alpha, beta = 2.0, 2.0\n",
      "\n",
      "# sample the distribution\n",
      "measured = np.random.beta(alpha, beta, 10000)\n",
      "hist, edges = np.histogram(measured, density=True, bins=50)\n",
      "\n",
      "# compute ideal values\n",
      "x = np.linspace(0, 1, 10000)\n",
      "pdf = x**(alpha-1) * (1-x)**(beta-1) / scipy.special.beta(alpha, beta)\n",
      "cdf = scipy.special.btdtr(alpha, beta, x)\n",
      "\n",
      "# code for Weibull Distribution\n",
      "\n",
      "lam, k = 1, 1.25\n",
      "\n",
      "# sample the distribution\n",
      "measured = lam*(-np.log(np.random.uniform(0, 1, 10000)))**(1/k)\n",
      "hist, edges = np.histogram(measured, density=True, bins=50)\n",
      "\n",
      "# compute ideal values\n",
      "x = np.linspace(0, 8, 10000)\n",
      "pdf = (k/lam)*(x/lam)**(k-1) * np.exp(-(x/lam)**k)\n",
      "cdf = 1 - np.exp(-(x/lam)**k)\n"
     ],
     "language": "python",
     "metadata": {},
     "outputs": []
    },
    {
     "cell_type": "code",
     "collapsed": false,
     "input": [
      "# code for Gamma Distribution\n",
      "\n",
      "k, theta = 1.0, 2.0\n",
      "\n",
      "# sample the distribution\n",
      "measured = np.random.gamma(k, theta, 10000)\n",
      "hist, edges = np.histogram(measured, density=True, bins=50)\n",
      "\n",
      "# compute ideal values\n",
      "x = np.linspace(0, 20.0, 10000)\n",
      "pdf = x**(k-1) * np.exp(-x/theta) / (theta**k * scipy.special.gamma(k))\n",
      "cdf = scipy.special.gammainc(k, x/theta) / scipy.special.gamma(k)\n",
      "\n",
      "# code for Beta Distribution\n",
      "\n",
      "alpha, beta = 2.0, 2.0\n",
      "\n",
      "# sample the distribution\n",
      "measured = np.random.beta(alpha, beta, 10000)\n",
      "hist, edges = np.histogram(measured, density=True, bins=50)\n",
      "\n",
      "# compute ideal values\n",
      "x = np.linspace(0, 1, 10000)\n",
      "pdf = x**(alpha-1) * (1-x)**(beta-1) / scipy.special.beta(alpha, beta)\n",
      "cdf = scipy.special.btdtr(alpha, beta, x)\n",
      "\n",
      "# code for Weibull Distribution\n",
      "\n",
      "lam, k = 1, 1.25\n",
      "\n",
      "# sample the distribution\n",
      "measured = lam*(-np.log(np.random.uniform(0, 1, 10000)))**(1/k)\n",
      "hist, edges = np.histogram(measured, density=True, bins=50)\n",
      "\n",
      "# compute ideal values\n",
      "x = np.linspace(0, 8, 10000)\n",
      "pdf = (k/lam)*(x/lam)**(k-1) * np.exp(-(x/lam)**k)\n",
      "cdf = 1 - np.exp(-(x/lam)**k)\n",
      "\n",
      "show()"
     ],
     "language": "python",
     "metadata": {},
     "outputs": []
    },
    {
     "cell_type": "markdown",
     "metadata": {},
     "source": [
      "<button onclick=\"toggle_md_cell('hint6')\"; class=\"btn\">Show solution</button>"
     ]
    },
    {
     "cell_type": "markdown",
     "metadata": {},
     "source": [
      "```python\n",
      "figure()\n",
      "\n",
      "k, theta = 1.0, 2.0\n",
      "\n",
      "# sample the distribution\n",
      "measured = np.random.gamma(k, theta, 1000)\n",
      "hist, edges = np.histogram(measured, density=True, bins=50)\n",
      "\n",
      "# compute ideal values\n",
      "x = np.linspace(0, 20.0, 1000)\n",
      "pdf = x**(k-1) * np.exp(-x/theta) / (theta**k * scipy.special.gamma(k))\n",
      "cdf = scipy.special.gammainc(k, x/theta) / scipy.special.gamma(k)\n",
      "\n",
      "quad(top=hist, bottom=np.zeros(len(hist)), left=edges[:-1], right=edges[1:],\n",
      "     fill_color=\"#036564\", line_color=\"#033649\", background_fill=\"#E8DDCB\",\n",
      "     title=\"Gamma Distribution (k=1, \u03b8=2)\", tools=\"\")\n",
      "line(x, pdf, line_color=\"#D95B43\", line_width=8, alpha=0.7, legend=\"PDF\")\n",
      "line(x, cdf, line_color=\"white\", line_width=2, alpha=0.7, legend=\"CDF\")\n",
      "legend().orientation = \"top_left\"\n",
      "\n",
      "\n",
      "figure()\n",
      "\n",
      "alpha, beta = 2.0, 2.0\n",
      "\n",
      "# sample the distribution\n",
      "measured = np.random.beta(alpha, beta, 1000)\n",
      "hist, edges = np.histogram(measured, density=True, bins=50)\n",
      "\n",
      "# compute ideal values\n",
      "x = np.linspace(0, 1, 1000)\n",
      "pdf = x**(alpha-1) * (1-x)**(beta-1) / scipy.special.beta(alpha, beta)\n",
      "cdf = scipy.special.btdtr(alpha, beta, x)\n",
      "\n",
      "quad(top=hist, bottom=np.zeros(len(hist)), left=edges[:-1], right=edges[1:],\n",
      "     fill_color=\"#036564\", line_color=\"#033649\", background_fill=\"#E8DDCB\",\n",
      "     title=\"Beta Distribution (\u03b1=2, \u03b2=2)\", tools=\"\")\n",
      "line(x, pdf, line_color=\"#D95B43\", line_width=8, alpha=0.7, legend=\"PDF\")\n",
      "line(x, cdf, line_color=\"white\", line_width=2, alpha=0.7, legend=\"CDF\")\n",
      "\n",
      "\n",
      "\n",
      "figure()\n",
      "\n",
      "lam, k = 1, 1.25\n",
      "\n",
      "# sample the distribution\n",
      "measured = lam*(-np.log(np.random.uniform(0, 1, 1000)))**(1/k)\n",
      "hist, edges = np.histogram(measured, density=True, bins=50)\n",
      "\n",
      "# compute ideal values\n",
      "x = np.linspace(0, 8, 1000)\n",
      "pdf = (k/lam)*(x/lam)**(k-1) * np.exp(-(x/lam)**k)\n",
      "cdf = 1 - np.exp(-(x/lam)**k)\n",
      "\n",
      "quad(top=hist, bottom=np.zeros(len(hist)), left=edges[:-1], right=edges[1:],\n",
      "     fill_color=\"#036564\", line_color=\"#033649\", background_fill=\"#E8DDCB\",\n",
      "     title=\"Weibull Distribution (\u03bb=1, k=1.25)\", tools=\"\")\n",
      "line(x, pdf, line_color=\"#D95B43\", line_width=8, alpha=0.7, legend=\"PDF\")\n",
      "line(x, cdf, line_color=\"white\", line_width=2, alpha=0.7, legend=\"CDF\")\n",
      "legend().orientation = \"top_left\"\n",
      "```\n",
      "<div id=\"hint6\" class=\"hint\"></div>"
     ]
    },
    {
     "cell_type": "markdown",
     "metadata": {},
     "source": [
      "<script>\n",
      "    hide_all_hints();\n",
      "</script>"
     ]
    }
   ],
   "metadata": {}
  }
 ]
}