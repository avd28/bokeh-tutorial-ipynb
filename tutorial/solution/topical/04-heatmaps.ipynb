{
 "metadata": {
  "name": "",
  "signature": "sha256:0a0242ffc7d5f90cd524915664b1a1276c9446e309f0a9e188744645a2bd2ace"
 },
 "nbformat": 3,
 "nbformat_minor": 0,
 "worksheets": [
  {
   "cells": [
    {
     "cell_type": "heading",
     "level": 2,
     "metadata": {},
     "source": [
      "<div style=\"float:left\">\n",
      "    <a href=\"http://bokeh.pydata.org/\">\n",
      "    <img src=\"http://bokeh.pydata.org/_static/bokeh-transparent.png\" style=\"display:inline-block; width:90px\"></a>\n",
      "    <h1  style=\"display:inline-block\">Bokeh tutorial - Topical Exercises</h1>\n",
      "</div>"
     ]
    },
    {
     "cell_type": "markdown",
     "metadata": {},
     "source": [
      "This is the IPython Notebook version of the Bokeh Tutorial availabled at http://bokeh.pydata.org/tutorial/index.html."
     ]
    },
    {
     "cell_type": "markdown",
     "metadata": {},
     "source": [
      "This Tutorial allows you to attempt the exercises without seeing the solutions, click the `Show solution` button after each  exercise whenever you are ready to check your code.\n",
      "\n",
      "<script>\n",
      "    toggle_md_cell = function(divid) {\n",
      "        $(\"#\" + divid).parent().parent().toggle();\n",
      "        // Style for solution cells //\n",
      "        $(\"#\" + divid).parent().parent().css(\"border\",\"1px solid rgba(0 , 0 , 0 , 0.15)\")\n",
      "        $(\"#\" + divid).parent().parent().css(\"border-radius\",\"7px\")\n",
      "        $(\"#\" + divid).parent().parent().css(\"background-color\",\"#F7FBFD\")\n",
      "        $(\"#\" + divid).parent().children(\"pre\").children(\"code\").css(\"background-color\",\"#F7FBFD\")\n",
      "    };\n",
      "    hide_all_hints = function() {\n",
      "        $(\"div.hint\").parent().parent().hide();\n",
      "    };\n",
      "    show_all_hints = function() {\n",
      "        $(\"div.hint\").parent().parent().show();\n",
      "    };\n",
      "</script>\n",
      "\n",
      "<button onclick=\"show_all_hints();\" class=\"btn\">Show solutions</button> <button onclick=\"hide_all_hints();\" class=\"btn\">Hide solutions</button>"
     ]
    },
    {
     "cell_type": "heading",
     "level": 2,
     "metadata": {},
     "source": [
      "4. Heatmaps"
     ]
    },
    {
     "cell_type": "markdown",
     "metadata": {},
     "source": [
      "The Wall-Street Journal published an excellent heatmap chart [U.S. Unemployment: A Historical View](http://online.wsj.com/news/articles/SB10001424052748703338004575230041742556522). We will create a similar chart using Bokeh. This data may be obtained from [The Bureau of Labor Statistics](http://data.bls.gov/timeseries/LNU04000000)."
     ]
    },
    {
     "cell_type": "code",
     "collapsed": false,
     "input": [
      "import numpy as np\n",
      "import pandas as pd\n",
      "from bokeh.plotting import *\n",
      "from bokeh.objects import HoverTool\n",
      "from bokeh.sampledata.unemployment1948 import data\n",
      "from collections import OrderedDict"
     ],
     "language": "python",
     "metadata": {},
     "outputs": []
    },
    {
     "cell_type": "code",
     "collapsed": false,
     "input": [
      "output_notebook()"
     ],
     "language": "python",
     "metadata": {},
     "outputs": []
    },
    {
     "cell_type": "code",
     "collapsed": false,
     "input": [
      "# Read in the data with pandas. Convert the year column to string\n",
      "data['Year'] = [str(x) for x in data['Year']]\n",
      "years = list(data['Year'])\n",
      "months = [\"Jan\",\"Feb\",\"Mar\",\"Apr\",\"May\",\"Jun\",\"Jul\",\"Aug\",\"Sep\",\"Oct\",\"Nov\",\"Dec\"]\n",
      "data = data.set_index('Year')\n",
      "\n",
      "# this is the colormap from the original plot\n",
      "colors = [\n",
      "    \"#75968f\", \"#a5bab7\", \"#c9d9d3\", \"#e2e2e2\", \"#dfccce\",\n",
      "    \"#ddb7b1\", \"#cc7878\", \"#933b41\", \"#550b1d\"\n",
      "]\n",
      "\n",
      "# Set up the data for plotting. We will need to have values for every\n",
      "# pair of year/month names. Map the rate to a color.\n",
      "month = []\n",
      "year = []\n",
      "color = []\n",
      "rate = []\n",
      "for y in years:\n",
      "    for m in months:\n",
      "        month.append(m)\n",
      "        year.append(y)\n",
      "        monthly_rate = data[m][y]\n",
      "        rate.append(monthly_rate)\n",
      "        color.append(colors[min(int(monthly_rate)-2, 8)])"
     ],
     "language": "python",
     "metadata": {},
     "outputs": []
    },
    {
     "cell_type": "code",
     "collapsed": false,
     "input": [
      "# EXERCISE: create a `ColumnDataSource` with columns: month, year, color, rate"
     ],
     "language": "python",
     "metadata": {},
     "outputs": []
    },
    {
     "cell_type": "markdown",
     "metadata": {},
     "source": [
      "<button onclick=\"toggle_md_cell('hint1')\"; class=\"btn\">Show solution</button>"
     ]
    },
    {
     "cell_type": "markdown",
     "metadata": {},
     "source": [
      "```python\n",
      "source = ColumnDataSource(\n",
      "    data=dict(\n",
      "        month=month,\n",
      "        year=year,\n",
      "        color=color,\n",
      "        rate=rate,\n",
      "    )\n",
      ")\n",
      "```\n",
      "<div id=\"hint1\" class=\"hint\"></div>"
     ]
    },
    {
     "cell_type": "code",
     "collapsed": false,
     "input": [
      "# EXERCISE: create a new figure"
     ],
     "language": "python",
     "metadata": {},
     "outputs": []
    },
    {
     "cell_type": "markdown",
     "metadata": {},
     "source": [
      "<button onclick=\"toggle_md_cell('hint2')\"; class=\"btn\">Show solution</button>"
     ]
    },
    {
     "cell_type": "markdown",
     "metadata": {},
     "source": [
      "```python\n",
      "figure()\n",
      "```\n",
      "<div id=\"hint2\" class=\"hint\"></div>"
     ]
    },
    {
     "cell_type": "code",
     "collapsed": false,
     "input": [
      "# EXERCISE: use the `rect renderer with the following attributes:\n",
      "#   - x_range is years, y_range is months (reversed)\n",
      "#   - fill color for the rectangles is the 'color' field\n",
      "#   - line_color for the rectangles is None\n",
      "#   - tools are resize and hover tools\n",
      "#   - add a nice title, and set the plot_width and plot_height\n",
      "rect('year', 'month', 0.95, 0.95, source=source,\n",
      "     x_range=years, y_range=list(reversed(months)),\n",
      "     color=\n",
      "     line_color=\n",
      "     tools=\n",
      "     title=\n",
      "     plot_width=\n",
      "     plot_height=\n",
      ")"
     ],
     "language": "python",
     "metadata": {},
     "outputs": []
    },
    {
     "cell_type": "markdown",
     "metadata": {},
     "source": [
      "<button onclick=\"toggle_md_cell('hint3')\"; class=\"btn\">Show solution</button>"
     ]
    },
    {
     "cell_type": "markdown",
     "metadata": {},
     "source": [
      "```python\n",
      "rect('year', 'month', 0.95, 0.95, source=source,\n",
      "     x_range=years, y_range=list(reversed(months)),\n",
      "     color='color', line_color=None,\n",
      "     tools=\"resize,hover\", title=\"US Unemployment (1948 - 2013)\",\n",
      "     plot_width=900, plot_height=400)\n",
      "```\n",
      "<div id=\"hint3\" class=\"hint\"></div>"
     ]
    },
    {
     "cell_type": "code",
     "collapsed": false,
     "input": [
      "# EXERCISE: use grid(), axis(), etc. to style the plot. Some suggestions:\n",
      "#   - remove the axis and grid lines\n",
      "#   - remove the major ticks\n",
      "#   - make the tick labels smaller\n",
      "#   - set the x-axis orientation to vertical, or angled"
     ],
     "language": "python",
     "metadata": {},
     "outputs": []
    },
    {
     "cell_type": "markdown",
     "metadata": {},
     "source": [
      "<button onclick=\"toggle_md_cell('hint4')\"; class=\"btn\">Show solution</button>"
     ]
    },
    {
     "cell_type": "markdown",
     "metadata": {},
     "source": [
      "```python\n",
      "grid().grid_line_color = None\n",
      "axis().axis_line_color = None\n",
      "axis().major_tick_line_color = None\n",
      "axis().major_label_text_font_size = \"5pt\"\n",
      "axis().major_label_standoff = 0\n",
      "xaxis().location = \"top\"\n",
      "xaxis().major_label_orientation = np.pi/3\n",
      "```\n",
      "<div id=\"hint4\" class=\"hint\"></div>"
     ]
    },
    {
     "cell_type": "code",
     "collapsed": false,
     "input": [
      "# EXERCISE: configure the  hover tool to display the month, year and rate\n",
      "hover = [t for t in curplot().tools if isinstance(t, HoverTool)][0]\n",
      "hover.tooltips = OrderedDict([\n",
      "    # fill me in\n",
      "])\n",
      "\n",
      "show()      # show the plot"
     ],
     "language": "python",
     "metadata": {},
     "outputs": []
    },
    {
     "cell_type": "code",
     "collapsed": false,
     "input": [
      "<button onclick=\"toggle_md_cell('hint5')\"; class=\"btn\">Show solution</button>"
     ],
     "language": "python",
     "metadata": {},
     "outputs": []
    },
    {
     "cell_type": "code",
     "collapsed": false,
     "input": [
      "```python\n",
      "hover = [t for t in curplot().tools if isinstance(t, HoverTool)][0]\n",
      "hover.tooltips = OrderedDict([\n",
      "    ('date', '@month @year'),\n",
      "    ('rate', '@rate'),\n",
      "])\n",
      "```\n",
      "<div id=\"hint5\" class=\"hint\"></div>"
     ],
     "language": "python",
     "metadata": {},
     "outputs": []
    },
    {
     "cell_type": "markdown",
     "metadata": {},
     "source": [
      "<script>\n",
      "    hide_all_hints();\n",
      "</script>"
     ]
    }
   ],
   "metadata": {}
  }
 ]
}