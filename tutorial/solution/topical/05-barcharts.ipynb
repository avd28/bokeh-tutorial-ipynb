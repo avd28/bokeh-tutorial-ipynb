{
 "metadata": {
  "name": "",
  "signature": "sha256:11713d6c9c01da762031dfe59a8de54d1d47767bc7788bf2b7a15d004ab71a18"
 },
 "nbformat": 3,
 "nbformat_minor": 0,
 "worksheets": [
  {
   "cells": [
    {
     "cell_type": "heading",
     "level": 2,
     "metadata": {},
     "source": [
      "<div style=\"float:left\">\n",
      "    <a href=\"http://bokeh.pydata.org/\">\n",
      "    <img src=\"http://bokeh.pydata.org/_static/bokeh-transparent.png\" style=\"display:inline-block; width:90px\"></a>\n",
      "    <h1  style=\"display:inline-block\">Bokeh tutorial - Topical Exercises</h1>\n",
      "</div>"
     ]
    },
    {
     "cell_type": "markdown",
     "metadata": {},
     "source": [
      "This is the IPython Notebook version of the Bokeh Tutorial availabled at http://bokeh.pydata.org/tutorial/index.html."
     ]
    },
    {
     "cell_type": "heading",
     "level": 2,
     "metadata": {},
     "source": [
      "5. Bar charts"
     ]
    },
    {
     "cell_type": "markdown",
     "metadata": {},
     "source": [
      "Let\u2019s plot some bar charts using 2014 Olympics data. We will make both stacked and grouped bar charts of medals won by country. The data for this exercise was obtained using the [Sochi API Explorer from Kimono Labs](https://www.kimonolabs.com/sochi/explorer)."
     ]
    }
   ],
   "metadata": {}
  }
 ]
}