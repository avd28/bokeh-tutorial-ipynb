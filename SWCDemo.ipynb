{
 "metadata": {
  "name": "",
  "signature": "sha256:952710c7e9ea99fdb97d35e971b17e6020a76929db47181f79848b8291440716"
 },
 "nbformat": 3,
 "nbformat_minor": 0,
 "worksheets": [
  {
   "cells": [
    {
     "cell_type": "markdown",
     "metadata": {},
     "source": [
      "Initial cell has buttons to show/hide all hint cells"
     ]
    },
    {
     "cell_type": "markdown",
     "metadata": {},
     "source": [
      "<script>\n",
      "    toggle_md_cell = function(divid) {\n",
      "        $(\"#\" + divid).parent().parent().toggle();\n",
      "    };\n",
      "    hide_all_hints = function() {\n",
      "        $(\"div.hint\").parent().parent().hide();\n",
      "    };\n",
      "    show_all_hints = function() {\n",
      "        $(\"div.hint\").parent().parent().show();\n",
      "    };\n",
      "</script>\n",
      "\n",
      "<button onclick=\"show_all_hints();\">show hints</button> <button onclick=\"hide_all_hints();\">hide hints</button>"
     ]
    },
    {
     "cell_type": "code",
     "collapsed": false,
     "input": [
      "# this code cell isn't marked, so it survives\n",
      "print \"Welcome to Software Carpentry!\""
     ],
     "language": "python",
     "metadata": {},
     "outputs": [
      {
       "output_type": "stream",
       "stream": "stdout",
       "text": [
        "Welcome to Software Carpentry!\n"
       ]
      }
     ],
     "prompt_number": 4
    },
    {
     "cell_type": "heading",
     "level": 1,
     "metadata": {},
     "source": [
      "Problem 1"
     ]
    },
    {
     "cell_type": "markdown",
     "metadata": {},
     "source": [
      "Click this button to reveal a hint: <button onclick=\"toggle_md_cell('hint1');\">hint</button>"
     ]
    },
    {
     "cell_type": "markdown",
     "metadata": {},
     "source": [
      "## This is Hint # 1\n",
      "\n",
      "We mark each hint cell with an empty div:\n",
      "\n",
      "    <div id=\"hint2\" class=\"hint\"></div>\n",
      "\n",
      "<div id=\"hint1\" class=\"hint\"></div>"
     ]
    },
    {
     "cell_type": "code",
     "collapsed": false,
     "input": [
      "# Solution 1\n",
      "def solution_one():\n",
      "    print 'hi'\n",
      "solution_one()"
     ],
     "language": "python",
     "metadata": {},
     "outputs": [
      {
       "output_type": "stream",
       "stream": "stdout",
       "text": [
        "hi\n"
       ]
      }
     ],
     "prompt_number": 2
    },
    {
     "cell_type": "heading",
     "level": 1,
     "metadata": {},
     "source": [
      "Problem 2"
     ]
    },
    {
     "cell_type": "markdown",
     "metadata": {},
     "source": [
      "Click this button to reveal the next hint: <button onclick=\"toggle_md_cell('hint2');\">hint</button>"
     ]
    },
    {
     "cell_type": "markdown",
     "metadata": {},
     "source": [
      "### This is Hint #2\n",
      "\n",
      "Here is how we are toggling hints:\n",
      "\n",
      "    <button onclick=\"toggle_md_cell('hint2');\">toggle hint</button>\n",
      "\n",
      "<div id=\"hint2\" class=\"hint\"></div>"
     ]
    },
    {
     "cell_type": "code",
     "collapsed": false,
     "input": [
      "# Solution 2\n",
      "print \"hello\", \"world\""
     ],
     "language": "python",
     "metadata": {},
     "outputs": [
      {
       "output_type": "stream",
       "stream": "stdout",
       "text": [
        "hello world\n"
       ]
      }
     ],
     "prompt_number": 3
    },
    {
     "cell_type": "markdown",
     "metadata": {},
     "source": [
      "*footer that hides all hints on load*\n",
      "\n",
      "Alternatively, one could add individual hides inside each hint cell,\n",
      "but this is the simplest way to hide all of them on page load.\n",
      "\n",
      "<script>\n",
      "    hide_all_hints();\n",
      "</script>"
     ]
    }
   ],
   "metadata": {}
  }
 ]
}