{
 "metadata": {
  "name": "",
  "signature": "sha256:a0e5fbb1c86b3edce992d58f83f42c50bb95b8d696cbe247359e66d3acc0acee"
 },
 "nbformat": 3,
 "nbformat_minor": 0,
 "worksheets": [
  {
   "cells": [
    {
     "cell_type": "heading",
     "level": 2,
     "metadata": {},
     "source": [
      "<div style=\"float:left\">\n",
      "    <a href=\"http://bokeh.pydata.org/\">\n",
      "    <img src=\"http://bokeh.pydata.org/_static/bokeh-transparent.png\" style=\"display:inline-block; width:90px\"></a>\n",
      "    <h1  style=\"display:inline-block\">Bokeh tutorial - Topical Exercises</h1>\n",
      "</div>"
     ]
    },
    {
     "cell_type": "markdown",
     "metadata": {},
     "source": [
      "This is the IPython Notebook version of the Bokeh Tutorial availabled at http://bokeh.pydata.org/tutorial/index.html."
     ]
    },
    {
     "cell_type": "markdown",
     "metadata": {},
     "source": [
      "This Tutorial allows you to attempt the exercises without seeing the solutions, click the `Show solution` button after each  exercise whenever you are ready to check your code.\n",
      "\n",
      "<script>\n",
      "    toggle_md_cell = function(divid) {\n",
      "        $(\"#\" + divid).parent().parent().toggle();\n",
      "        $(\"#\" + divid).parent().parent().css(\"background-color\",\"#F7FBFD\")\n",
      "    };\n",
      "    hide_all_hints = function() {\n",
      "        $(\"div.hint\").parent().parent().hide();\n",
      "    };\n",
      "    show_all_hints = function() {\n",
      "        $(\"div.hint\").parent().parent().show();\n",
      "    };\n",
      "</script>\n",
      "\n",
      "<button onclick=\"show_all_hints();\">show hints</button> <button onclick=\"hide_all_hints();\">hide hints</button>"
     ]
    },
    {
     "cell_type": "heading",
     "level": 2,
     "metadata": {},
     "source": [
      "1. Timeseries"
     ]
    },
    {
     "cell_type": "markdown",
     "metadata": {},
     "source": [
      "Bokeh includes support for formatting datetime information as well as picking nice ticks on datetime axes. \n",
      "\n",
      "Here we will plot some stock data taken from the [Yahoo Finance API](https://code.google.com/p/yahoo-finance-managed/wiki/csvHistQuotesDownload)."
     ]
    },
    {
     "cell_type": "code",
     "collapsed": false,
     "input": [
      "import numpy as np\n",
      "import pandas as pd\n",
      "\n",
      "from bokeh.plotting import *"
     ],
     "language": "python",
     "metadata": {},
     "outputs": []
    },
    {
     "cell_type": "code",
     "collapsed": false,
     "input": [
      "output_notebook()"
     ],
     "language": "python",
     "metadata": {},
     "outputs": []
    },
    {
     "cell_type": "code",
     "collapsed": false,
     "input": [
      "# Here is some code to read in some stock data from the Yahoo Finance API\n",
      "AAPL = pd.read_csv(\n",
      "    \"http://ichart.yahoo.com/table.csv?s=AAPL&a=0&b=1&c=2000\",\n",
      "    parse_dates=['Date'])\n",
      "GOOG = pd.read_csv(\n",
      "    \"http://ichart.yahoo.com/table.csv?s=GOOG&a=0&b=1&c=2000\",\n",
      "    parse_dates=['Date'])\n",
      "MSFT = pd.read_csv(\n",
      "    \"http://ichart.yahoo.com/table.csv?s=MSFT&a=0&b=1&c=2000\",\n",
      "    parse_dates=['Date'])\n",
      "IBM = pd.read_csv(\n",
      "    \"http://ichart.yahoo.com/table.csv?s=IBM&a=0&b=1&c=2000\",\n",
      "    parse_dates=['Date'])"
     ],
     "language": "python",
     "metadata": {},
     "outputs": []
    },
    {
     "cell_type": "code",
     "collapsed": false,
     "input": [
      "# EXERCISE 1: turn on plot hold"
     ],
     "language": "python",
     "metadata": {},
     "outputs": []
    },
    {
     "cell_type": "markdown",
     "metadata": {},
     "source": [
      "```python\n",
      "hold()\n",
      "```\n",
      "<div id=\"hint1\" class=\"hint\"></div>"
     ]
    },
    {
     "cell_type": "code",
     "collapsed": false,
     "input": [
      "# EXERCISE 2: finish this line plot, and add more for the other stocks. Each one should\n",
      "# have a legend, and its own color.\n",
      "line(\n",
      "    AAPL['Date'],                                       # x coordinates\n",
      "    AAPL['Adj Close'],                                  # y coordinates\n",
      "    color='#A6CEE3',                                    # set a color for the line\n",
      "    legend='AAPL',                                      # attach a legend label\n",
      "    x_axis_type = \"datetime\",                           # NOTE: only needed on first\n",
      "    tools=\"pan,wheel_zoom,box_zoom,reset,previewsave\"   # NOTE: only needed on first\n",
      ")"
     ],
     "language": "python",
     "metadata": {},
     "outputs": []
    },
    {
     "cell_type": "markdown",
     "metadata": {},
     "source": [
      "<button onclick=\"toggle_md_cell('hint2')\"; class=\"btn\">Show solution</button>"
     ]
    },
    {
     "cell_type": "markdown",
     "metadata": {},
     "source": [
      "\n",
      "```python\n",
      "line(\n",
      "    AAPL['Date'],                                       # x coordinates\n",
      "    AAPL['Adj Close'],                                  # y coordinates\n",
      "    color='#A6CEE3',                                    # set a color for the line\n",
      "    legend='AAPL',                                      # attach a legend label\n",
      "    x_axis_type = \"datetime\",                           # NOTE: only needed on first\n",
      "    tools=\"pan,wheel_zoom,box_zoom,reset,previewsave\"   # NOTE: only needed on first\n",
      ")\n",
      "line(GOOG['Date'], GOOG['Adj Close'], color='#B2DF8A', legend='GOOG')\n",
      "line(IBM['Date'], IBM['Adj Close'], color='#33A02C', legend='IBM')\n",
      "line(MSFT['Date'], MSFT['Adj Close'], color='#FB9A99', legend='MSFT')\n",
      "```\n",
      "\n",
      "<div id=\"hint2\" class=\"hint\"></div>"
     ]
    },
    {
     "cell_type": "markdown",
     "metadata": {},
     "source": [
      "<div class=\"panel-group\" id=\"accordion\" style=\"\n",
      "    width: inherit;\n",
      "    border\n",
      "\">\n",
      "  <div class=\"panel panel-info\">\n",
      "    <div class=\"btn\">\n",
      "      \n",
      "        <a data-toggle=\"collapse\" data-parent=\"#accordion\" href=\"#collapseOne\">\n",
      "          Show solution\n",
      "        </a>\n",
      "\n",
      "    </div>\n",
      "    <div id=\"collapseOne\" class=\"panel-collapse panel-info in collapse\" style=\"height: 263px;\">\n",
      "      <div class=\"panel-body\" style=\"\n",
      "    background-color: #F7FBFD;\n",
      "    border: 1px solid rgba(0,0,0,0.15);\n",
      "    border-radius: 7px;\n",
      "\">\n",
      "\t\t<pre style=\"\n",
      "    background-color: #F7FBFD;\n",
      "\"><code class=\"language-python\" style=\"\n",
      "    background-color: #F7FBFD;\">line(\n",
      "    AAPL[<span class=\"string\">'Date'</span>],                                       <span class=\"comment\"># x coordinates</span>\n",
      "    AAPL[<span class=\"string\">'Adj Close'</span>],                                  <span class=\"comment\"># y coordinates</span>\n",
      "    color=<span class=\"string\">'#A6CEE3'</span>,                                    <span class=\"comment\"># set a color for the line</span>\n",
      "    legend=<span class=\"string\">'AAPL'</span>,                                      <span class=\"comment\"># attach a legend label</span>\n",
      "    x_axis_type = <span class=\"string\">\"datetime\"</span>,                           <span class=\"comment\"># NOTE: only needed on first</span>\n",
      "    tools=<span class=\"string\">\"pan,wheel_zoom,box_zoom,reset,previewsave\"</span>   <span class=\"comment\"># NOTE: only needed on first</span>\n",
      ")\n",
      "line(GOOG[<span class=\"string\">'Date'</span>], GOOG[<span class=\"string\">'Adj Close'</span>], color=<span class=\"string\">'#B2DF8A'</span>, legend=<span class=\"string\">'GOOG'</span>)\n",
      "line(IBM[<span class=\"string\">'Date'</span>], IBM[<span class=\"string\">'Adj Close'</span>], color=<span class=\"string\">'#33A02C'</span>, legend=<span class=\"string\">'IBM'</span>)\n",
      "line(MSFT[<span class=\"string\">'Date'</span>], MSFT[<span class=\"string\">'Adj Close'</span>], color=<span class=\"string\">'#FB9A99'</span>, legend=<span class=\"string\">'MSFT'</span>)\n",
      "</code></pre>\n",
      "      </div>\n",
      "    </div>\n",
      "  </div>\n",
      "</div>"
     ]
    },
    {
     "cell_type": "code",
     "collapsed": false,
     "input": [
      "# EXERCISE 3: style the plot, set a title, lighten the gridlines, etc."
     ],
     "language": "python",
     "metadata": {},
     "outputs": []
    },
    {
     "cell_type": "markdown",
     "metadata": {},
     "source": [
      "Click this button to reveal the solution: <button onclick=\"toggle_md_cell('hint3');\">Show solution</button>"
     ]
    },
    {
     "cell_type": "markdown",
     "metadata": {},
     "source": [
      "### SOLUTION # 3:\n",
      "\n",
      "```python\n",
      "curplot().title = \"Stock Closing Prices\"\n",
      "grid().grid_line_alpha=0.3\n",
      "```\n",
      "\n",
      "<div id=\"hint3\" class=\"hint\"></div>"
     ]
    },
    {
     "cell_type": "code",
     "collapsed": false,
     "input": [
      "# EXERCISE 4: start a new figure"
     ],
     "language": "python",
     "metadata": {},
     "outputs": []
    },
    {
     "cell_type": "markdown",
     "metadata": {},
     "source": [
      "Click this button to reveal the solution: <button onclick=\"toggle_md_cell('hint4');\">Show solution</button>"
     ]
    },
    {
     "cell_type": "markdown",
     "metadata": {},
     "source": [
      "### SOLUTION # 4:\n",
      "\n",
      "```python\n",
      "figure()\n",
      "```\n",
      "\n",
      "<div id=\"hint4\" class=\"hint\"></div>"
     ]
    },
    {
     "cell_type": "code",
     "collapsed": false,
     "input": [
      "# Here is some code to compute the 30-day moving average for AAPL\n",
      "aapl = AAPL['Adj Close']\n",
      "aapl_dates = AAPL['Date']\n",
      "\n",
      "window_size = 30\n",
      "window = np.ones(window_size)/float(window_size)\n",
      "aapl_avg = np.convolve(aapl, window, 'same')"
     ],
     "language": "python",
     "metadata": {},
     "outputs": []
    },
    {
     "cell_type": "code",
     "collapsed": false,
     "input": [
      "# EXERCISE 5: plot a scatter of circles for the individual AAPL prices with legend\n",
      "# 'close'. Remember to set the x axis type and tools on the first renderer"
     ],
     "language": "python",
     "metadata": {},
     "outputs": []
    },
    {
     "cell_type": "markdown",
     "metadata": {},
     "source": [
      "Click this button to reveal the solution: <button onclick=\"toggle_md_cell('hint5');\">Show solution</button>"
     ]
    },
    {
     "cell_type": "markdown",
     "metadata": {},
     "source": [
      "### SOLUTION # 5:\n",
      "\n",
      "```python\n",
      "scatter(aapl_dates, aapl, size=4, color='#A6CEE3', legend='close',\n",
      "        x_axis_type=\"datetime\", tools=\"pan,wheel_zoom,box_zoom,reset,previewsave\")\n",
      "```\n",
      "\n",
      "<div id=\"hint5\" class=\"hint\"></div>"
     ]
    },
    {
     "cell_type": "code",
     "collapsed": false,
     "input": [
      "# EXERCISE 6: plot a line of the AAPL moving average data with the legeng 'avg'"
     ],
     "language": "python",
     "metadata": {},
     "outputs": []
    },
    {
     "cell_type": "markdown",
     "metadata": {},
     "source": [
      "Click this button to reveal the solution: <button onclick=\"toggle_md_cell('hint6');\">Show solution</button>"
     ]
    },
    {
     "cell_type": "markdown",
     "metadata": {},
     "source": [
      "### SOLUTION # 6:\n",
      "\n",
      "```python\n",
      "line(aapl_dates, aapl_avg, color='red', legend='avg')\n",
      "```\n",
      "\n",
      "<div id=\"hint6\" class=\"hint\"></div>"
     ]
    },
    {
     "cell_type": "code",
     "collapsed": false,
     "input": [
      "# EXERCISE 7: style the plot, set a title, lighten the gridlines, etc."
     ],
     "language": "python",
     "metadata": {},
     "outputs": []
    },
    {
     "cell_type": "markdown",
     "metadata": {},
     "source": [
      "Click this button to reveal the solution: <button onclick=\"toggle_md_cell('hint7');\">Show solution</button>"
     ]
    },
    {
     "cell_type": "markdown",
     "metadata": {},
     "source": [
      "### SOLUTION # 7:\n",
      "\n",
      "```python\n",
      "curplot().title = \"AAPL One-Month Average\"\n",
      "grid().grid_line_alpha=0.3\n",
      "```\n",
      "\n",
      "<div id=\"hint7\" class=\"hint\"></div>"
     ]
    },
    {
     "cell_type": "markdown",
     "metadata": {},
     "source": [
      "<script>\n",
      "    hide_all_hints();\n",
      "</script>"
     ]
    },
    {
     "cell_type": "markdown",
     "metadata": {},
     "source": [
      "<script>\n",
      "$(\"div.hint\").css(\"background-color\",\"#F7FBFD\");\n",
      "$(\"a\").css(\"text-decoration\",\"#none\");\n",
      "<script>"
     ]
    }
   ],
   "metadata": {}
  }
 ]
}